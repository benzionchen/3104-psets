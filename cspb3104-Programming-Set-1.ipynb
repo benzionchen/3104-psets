{
 "cells": [
  {
   "cell_type": "markdown",
   "metadata": {},
   "source": [
    "# CSPB-3104 Programming Assignment 1\n",
    "\n",
    "\n",
    "Fill out the following functions:\n",
    "\n",
    "First, write a function 'swap(a, i, j)' which takes an array __a__, and swaps __a__[i] with __a__[j] in place.  It doesn't return anything, since the array __a__ is modified directly.\n",
    "\n",
    "Next, fill in insert_into(a, j), which given a sorted array __a__ and a number j, will append j to __a__, then fix the sorting of __a__ using only the function swap.  insert_into should return the number of times it called swap.\n",
    "\n",
    "__You are not allowed to use inbuilt routines in python such as sortd or the list insert method.__"
   ]
  },
  {
   "cell_type": "code",
   "execution_count": 10,
   "metadata": {},
   "outputs": [],
   "source": [
    "#swap(a, i, j) swaps a[i] and a[j] in place.\n",
    "\n",
    "def swap(a, i, j):\n",
    "    a[i], a[j] = a[j], a[i] # just swap, but don't return anything because this is a helper function for later "
   ]
  },
  {
   "cell_type": "code",
   "execution_count": 15,
   "metadata": {},
   "outputs": [],
   "source": [
    "#insert(a, j) inserts j into the correct location in a sorted list\n",
    "#using only list.append() and swap defined above.  insert returns the number of times swap is called.\n",
    "\n",
    "def insert_into(a, j): # a = sorted list array, j is what is being inserted\n",
    "    a.append(j) # adds j to the end of the list in array a, and will be out of order, but j will be moved later \n",
    "    \n",
    "    current_index = len(a) - 1 # current_index is the last element in array a which atm is j, len(a)-1 ignores j and looks to evaluate past j\n",
    "    how_many_swaps = 0 # initiate counter\n",
    "    \n",
    "    while current_index > 0 and a[current_index] < a[current_index -1]: # make sure doesn't evaluate into negative index + check whether the element at the current index (which initially is j) is smaller than the element before it\n",
    "        swap(a, current_index, current_index-1) # leverage the function we wrote above to swap the values at the index \n",
    "        how_many_swaps += 1 # then track how many times it's been swapped \n",
    "        current_index -= 1 # then the current index needs to move to the left (-1 because we want to evaluate away from the last element in the array)\n",
    "    \n",
    "    return how_many_swaps\n",
    "\n",
    "# then return the # of swaps"
   ]
  },
  {
   "cell_type": "markdown",
   "metadata": {},
   "source": [
    "Testing below\n",
    "\n",
    "----"
   ]
  },
  {
   "cell_type": "code",
   "execution_count": 16,
   "metadata": {},
   "outputs": [
    {
     "data": {
      "text/html": [
       "<font color=\"green\"> All tests succeeded! </font>"
      ],
      "text/plain": [
       "<IPython.core.display.HTML object>"
      ]
     },
     "metadata": {},
     "output_type": "display_data"
    }
   ],
   "source": [
    "## DO NOT EDIT TESTING CODE FOR YOUR ANSWER ABOVE\n",
    "# Press shift enter to test your code. Ensure that your code has been saved first by pressing shift+enter on the previous cell.\n",
    "from IPython.core.display import display, HTML\n",
    "def test_insert():\n",
    "    failed = False\n",
    "    test_cases = [ # (Input Array, Inserted Number, Expected Output)\n",
    "             ([1,3,6,8,10], 4 , [1,3,4,6,8,10], 3),\n",
    "             ([1,1,1,1,3,3,5,5,7,7], 1, [1,1,1,1,1,3,3,5,5,7,7], 6),\n",
    "             ([-10,9,15,18,35,44], 47, [-10, 9, 15, 18, 35, 44, 47], 0),\n",
    "             ([], 10, [10], 0),\n",
    "             ([-10, 9, 10, 20, 35], -20, [-20, -10, 9, 10, 20, 35], 5),\n",
    "             ([0,0,0,0,0,0], 0, [0,0,0,0,0,0,0], 0)]\n",
    "    for (test_array, j, expected_output, num_of_swaps) in test_cases:\n",
    "        original = test_array.copy()\n",
    "        swap_count = insert_into(test_array, j)\n",
    "        if (test_array != expected_output or swap_count != num_of_swaps):\n",
    "            s1 = '<font color=\\\"red\\\"> Failed - test case: Inputs: a=' + str(original)+ ' j=' + str(j) + \"<br>\"\n",
    "            s2 = '  <b> Expected Output: </b> ' + str(expected_output) + ' Your code output: ' + str(test_array)+ \"<br>\"\n",
    "            s3 = ' <b> Expected Number of Swaps: </b> ' + str(num_of_swaps) + ' Your code output: ' + str(swap_count) + '</font>'\n",
    "            display(HTML(s1+s2 + s3))\n",
    "            failed = True\n",
    "            \n",
    "    if failed:\n",
    "        display(HTML('<font color=\"red\"> One or more tests failed. </font>'))\n",
    "    else:\n",
    "        display(HTML('<font color=\"green\"> All tests succeeded! </font>'))\n",
    "test_insert()"
   ]
  }
 ],
 "metadata": {
  "kernelspec": {
   "display_name": "Python 3 (ipykernel)",
   "language": "python",
   "name": "python3"
  },
  "language_info": {
   "codemirror_mode": {
    "name": "ipython",
    "version": 3
   },
   "file_extension": ".py",
   "mimetype": "text/x-python",
   "name": "python",
   "nbconvert_exporter": "python",
   "pygments_lexer": "ipython3",
   "version": "3.9.13"
  }
 },
 "nbformat": 4,
 "nbformat_minor": 2
}
