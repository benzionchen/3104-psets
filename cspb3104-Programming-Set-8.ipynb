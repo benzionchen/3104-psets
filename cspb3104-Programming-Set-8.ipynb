{
 "cells": [
  {
   "cell_type": "markdown",
   "metadata": {},
   "source": [
    "# CSPB-3104 Programming Assignment 8\n",
    "\n"
   ]
  },
  {
   "cell_type": "markdown",
   "metadata": {},
   "source": [
    "1) (15 points) Implement Breadth First and Depth First Search\n",
    "\n",
    "\n",
    "Given an adjacency list a,  \n",
    "bfs(a, u) performs a breadth first search starting at node u and returns a list of nodes in the order in which they were seen.  \n",
    "INPUT: [[1]. [2], [0]], 1  (a 3 node cycle, starting BFS at node 1)  \n",
    "OUTPUT: [1, 2, 0]\n",
    "\n",
    "dfs(a) performs a depth first search starting at node 0 and returns a list of nodes in the order in which they were seen, with start and stop times.  \n",
    "INPUT: [[1], [2], [0]] (a 3 node cycle)  \n",
    "OUTPUT: [(0, (1, 6)), (1, (2, 5)), (2, (3, 4))]\n",
    "\n",
    "Note: Choose the next node in numerical order (node 3 is searched before node 5).  The adjacency lists are already sorted in this order.  \n",
    "You may use the heapq library for queues.  \n",
    "Be careful of the formatting for DFS.  Each element of the return list is a tuple containing an int and another tuple: (node_id, (start_time, stop_time))\n",
    "\n",
    "\n",
    "[[1], [2], [0]] is the following graph: \n",
    "$$ \\raisebox{.5pt}{\\textcircled{\\raisebox{-.9pt} {0}}}\n",
    " \\\\\n",
    "\\swarrow \\;\\; \\nwarrow\\\\\n",
    "\\raisebox{.5pt}{\\textcircled{\\raisebox{-.9pt} {1}}}\n",
    " \\;\\rightarrow\\; \\raisebox{.5pt}{\\textcircled{\\raisebox{-.9pt} {2}}}\n",
    "\n",
    "$$"
   ]
  },
  {
   "cell_type": "code",
   "execution_count": 1,
   "metadata": {},
   "outputs": [],
   "source": [
    "#Given an adjacency list a,  \n",
    "#bfs(a, u) performs a breadth first search starting at node u and returns a list of nodes in the order in which they were seen.  \n",
    "#INPUT: [[1]. [2], [0]], 1  (a 3 node cycle, starting BFS at node 1)  \n",
    "#OUTPUT: [1, 2, 0]\n",
    "\n",
    "from collections import deque\n",
    "\n",
    "def bfs(a, u):\n",
    "    visited = [False] * len(a)  # initialize visited list\n",
    "    queue = deque([u])  # initialize queue with the starting node\n",
    "    visited[u] = True  # mark starting node as visited\n",
    "    order = []  # store the order of nodes as they are visited\n",
    "    \n",
    "    while queue:\n",
    "        node = queue.popleft()\n",
    "        order.append(node)  # append current node to visited order list\n",
    "        \n",
    "        # traverse adjacent nodes in numerical order\n",
    "        for neighbor in a[node]:\n",
    "            if not visited[neighbor]:  # only visit unvisited nodes\n",
    "                visited[neighbor] = True\n",
    "                queue.append(neighbor)\n",
    "    \n",
    "    return order"
   ]
  },
  {
   "cell_type": "code",
   "execution_count": 2,
   "metadata": {},
   "outputs": [],
   "source": [
    "# Given an adjacency list a,\n",
    "# dfs(a) performs a depth first search starting at node 0 and returns a list of nodes in the order in which they were seen, with start and stop times.  \n",
    "# INPUT: [[1], [2], [0]] (a 3 node cycle)  \n",
    "# OUTPUT: [(0, (1, 6)), (1, (2, 5)), (2, (3, 4))]\n",
    "\n",
    "def dfs(a):\n",
    "    visited = [False] * len(a)  # track visited nodes\n",
    "    times = []  # store nodes with their start and stop times\n",
    "    time = 1  # init a global time counter\n",
    "\n",
    "    def dfs_visit(node):\n",
    "        nonlocal time\n",
    "        start_time = time\n",
    "        visited[node] = True\n",
    "        time += 1\n",
    "\n",
    "        # visit all unvisited neighbors in numerical order\n",
    "        for neighbor in sorted(a[node]):\n",
    "            if not visited[neighbor]:\n",
    "                dfs_visit(neighbor)\n",
    "\n",
    "        stop_time = time\n",
    "        time += 1\n",
    "        times.append((node, (start_time, stop_time)))  # append node with start and stop times\n",
    "\n",
    "    # DFS for each component in the graph\n",
    "    for i in range(len(a)):\n",
    "        if not visited[i]:\n",
    "            dfs_visit(i)\n",
    "\n",
    "    # sort times by start time to ensure we maintain the expected output format \n",
    "    times.sort(key = lambda x: x[1][0])\n",
    "\n",
    "    return times"
   ]
  },
  {
   "cell_type": "markdown",
   "metadata": {},
   "source": [
    "2) (10 points) Finding cycles\n",
    "\n",
    "Write a function that returns whether a node is part of a cycle.\n",
    "\n",
    "HINT: Modify you DFS to return early when it finds a cycle"
   ]
  },
  {
   "cell_type": "code",
   "execution_count": 3,
   "metadata": {},
   "outputs": [],
   "source": [
    "# Given an adjacency list a and an index j, returns True if node j is part of a cycle, False if not.\n",
    "\n",
    "\n",
    "from typing import List, Tuple\n",
    "\n",
    "def part_of_a_cycle(a: List[List[int]], j: int) -> bool:\n",
    "    # helper function to perform DFS\n",
    "    def dfs(node: int, visited: List[bool], stack: List[bool], start_stop_times: List[Tuple[int, Tuple[int, int]]], time: List[int]) -> bool:\n",
    "        visited[node] = True\n",
    "        stack[node] = True  # mark this node as part of the current path (recursion stack)\n",
    "        time[0] += 1  # start time\n",
    "        start_time = time[0]\n",
    "\n",
    "        for neighbor in a[node]:\n",
    "            if not visited[neighbor]:  # if neighbor hasnt been visited\n",
    "                if dfs(neighbor, visited, stack, start_stop_times, time):\n",
    "                    # if detect a cycle from the neighbor, return True\n",
    "                    if neighbor == j or stack[neighbor]:\n",
    "                        return True\n",
    "            elif stack[neighbor]:  # found a back edge, indicating a cycle\n",
    "                if neighbor == j or node == j:\n",
    "                    return True\n",
    "        \n",
    "        stack[node] = False  # remove the node from the current path (recursion stack)\n",
    "        time[0] += 1  # end time\n",
    "        stop_time = time[0]\n",
    "        start_stop_times.append((node, (start_time, stop_time)))\n",
    "        \n",
    "        return False\n",
    "    \n",
    "    n = len(a)\n",
    "    visited = [False] * n\n",
    "    stack = [False] * n  # recursion stack to detect back edges\n",
    "    start_stop_times = []  # list to record nodes with start and stop times\n",
    "    time = [0]  # mutable time counter\n",
    "    \n",
    "    # start DFS from each unvisited node\n",
    "    for i in range(n):\n",
    "        if not visited[i]:\n",
    "            if dfs(i, visited, stack, start_stop_times, time):\n",
    "                return True  # early exit if cycle found involving node j\n",
    "    \n",
    "    return False  # if no cycle found involving node j\n"
   ]
  },
  {
   "cell_type": "markdown",
   "metadata": {},
   "source": [
    "Testing below\n",
    "\n",
    "----"
   ]
  },
  {
   "cell_type": "code",
   "execution_count": 4,
   "metadata": {},
   "outputs": [
    {
     "data": {
      "text/html": [
       "<font color=\"green\"> All tests succeeded! </font>"
      ],
      "text/plain": [
       "<IPython.core.display.HTML object>"
      ]
     },
     "metadata": {},
     "output_type": "display_data"
    }
   ],
   "source": [
    "## DO NOT EDIT TESTING CODE FOR YOUR ANSWER ABOVE\n",
    "# Press shift enter to test your code. Ensure that your code has been saved first by pressing shift+enter on the previous cell.\n",
    "from IPython.core.display import display, HTML\n",
    "def bfs_test():\n",
    "    failed = False\n",
    "    test_cases = [ \n",
    "        ([[1, 2, 3], [0, 2, 3], [0,1,3],[0,1,2]], 0, [0,1,2,3]),\n",
    "        ([[1,3],[0],[1,3],[2]], 0, [0, 1, 3, 2]),\n",
    "        ([[],[0, 2],[3],[1]], 0, [0]),\n",
    "        ([[],[0, 2],[3],[1]], 1, [1, 0, 2, 3]),\n",
    "        ([[1, 2], [3,4], [5,6], [7,8], [8,9], [6,7], [], [], [], []], 0, [0,1,2,3,4,5,6,7,8,9])\n",
    "\n",
    "    ]\n",
    "    for (test_graph, starting_node, solution) in test_cases:\n",
    "        output = bfs(test_graph, starting_node)\n",
    "        if (solution != output):\n",
    "            s1 = '<font color=\\\"red\\\"> Failed - test case: Inputs: graph =' + str(test_graph) + \"<br>\"\n",
    "            s2 = '  <b> Expected Output: </b> ' + str(solution) + ' Your code output: ' + str(output)+ \"<br>\"\n",
    "            display(HTML(s1+s2))\n",
    "            failed = True\n",
    "            \n",
    "    if failed:\n",
    "        display(HTML('<font color=\"red\"> One or more tests failed. </font>'))\n",
    "    else:\n",
    "        display(HTML('<font color=\"green\"> All tests succeeded! </font>'))\n",
    "bfs_test()"
   ]
  },
  {
   "cell_type": "code",
   "execution_count": 5,
   "metadata": {},
   "outputs": [
    {
     "data": {
      "text/html": [
       "<font color=\"green\"> All tests succeeded! </font>"
      ],
      "text/plain": [
       "<IPython.core.display.HTML object>"
      ]
     },
     "metadata": {},
     "output_type": "display_data"
    }
   ],
   "source": [
    "## DO NOT EDIT TESTING CODE FOR YOUR ANSWER ABOVE\n",
    "# Press shift enter to test your code. Ensure that your code has been saved first by pressing shift+enter on the previous cell.\n",
    "from IPython.core.display import display, HTML\n",
    "def dfs_test():\n",
    "    failed = False\n",
    "    test_cases = [ \n",
    "        ([[1, 2, 3], [0, 2, 3], [0,1,3],[0,1,2]], [(0, (1, 8)), (1, (2, 7)), (2, (3, 6)), (3, (4, 5))]),\n",
    "        ([[1,3],[0],[1,3],[2]], [(0, (1, 8)), (1, (2, 3)), (3, (4, 7)), (2, (5, 6))]),\n",
    "        ([[],[0, 2],[3],[1]], [(0, (1, 2)), (1, (3, 8)), (2, (4, 7)), (3, (5, 6))]),\n",
    "        ([[],[0, 3],[1],[]],[(0, (1, 2)), (1, (3, 6)), (3, (4, 5)), (2, (7, 8))]),\n",
    "        ([[1, 2], [4,5], [3,4], [8,9], [7,8], [6,7], [], [], [], []],[(0, (1, 20)), (1, (2, 13)), (4, (3, 8)), (7, (4, 5)), (8, (6, 7)), (5, (9, 12)), (6, (10, 11)), (2, (14, 19)), (3, (15, 18)), (9, (16, 17))])\n",
    "\n",
    "    ]\n",
    "    for (test_graph, solution) in test_cases:\n",
    "        output = dfs(test_graph)\n",
    "        if (solution != output):\n",
    "            s1 = '<font color=\\\"red\\\"> Failed - test case: Inputs: graph =' + str(test_graph) + \"<br>\"\n",
    "            s2 = '  <b> Expected Output: </b> ' + str(solution) + ' Your code output: ' + str(output)+ \"<br>\"\n",
    "            display(HTML(s1+s2))\n",
    "            failed = True\n",
    "            \n",
    "    if failed:\n",
    "        display(HTML('<font color=\"red\"> One or more tests failed. </font>'))\n",
    "    else:\n",
    "        display(HTML('<font color=\"green\"> All tests succeeded! </font>'))\n",
    "dfs_test()"
   ]
  },
  {
   "cell_type": "code",
   "execution_count": 6,
   "metadata": {},
   "outputs": [
    {
     "data": {
      "text/html": [
       "<font color=\"green\"> All tests succeeded! </font>"
      ],
      "text/plain": [
       "<IPython.core.display.HTML object>"
      ]
     },
     "metadata": {},
     "output_type": "display_data"
    }
   ],
   "source": [
    "## DO NOT EDIT TESTING CODE FOR YOUR ANSWER ABOVE\n",
    "# Press shift enter to test your code. Ensure that your code has been saved first by pressing shift+enter on the previous cell.\n",
    "from IPython.core.display import display, HTML\n",
    "def part_of_a_cycle_test():\n",
    "    failed = False\n",
    "    test_cases = [ \n",
    "        ([[1, 2, 3], [0, 2, 3], [0,1,3],[0,1,2]], 0, True),\n",
    "        ([[1,3],[],[1,3],[2]], 0, False),\n",
    "        ([[1,3],[],[1,3],[2]], 2, True),\n",
    "        ([[],[0, 2],[3],[1]], 0, False),\n",
    "        ([[],[0, 2],[3],[1]], 1, True),\n",
    "        ([[1, 2], [4,5], [3,4], [8,9], [7,8], [6,7], [], [], [], []], 0, False)\n",
    "\n",
    "    ]\n",
    "    for (test_graph, starting_node, solution) in test_cases:\n",
    "        output = part_of_a_cycle(test_graph, starting_node)\n",
    "        if (solution != output):\n",
    "            s1 = '<font color=\\\"red\\\"> Failed - test case: Inputs: graph =' + str(test_graph) + ' node ' + str(starting_node) + \"<br>\"\n",
    "            s2 = '  <b> Expected Output: </b> ' + str(solution) + ' Your code output: ' + str(output)+ \"<br>\"\n",
    "            display(HTML(s1+s2))\n",
    "            failed = True\n",
    "            \n",
    "    if failed:\n",
    "        display(HTML('<font color=\"red\"> One or more tests failed. </font>'))\n",
    "    else:\n",
    "        display(HTML('<font color=\"green\"> All tests succeeded! </font>'))\n",
    "part_of_a_cycle_test()"
   ]
  },
  {
   "cell_type": "code",
   "execution_count": null,
   "metadata": {},
   "outputs": [],
   "source": []
  }
 ],
 "metadata": {
  "kernelspec": {
   "display_name": "Python 3 (ipykernel)",
   "language": "python",
   "name": "python3"
  },
  "language_info": {
   "codemirror_mode": {
    "name": "ipython",
    "version": 3
   },
   "file_extension": ".py",
   "mimetype": "text/x-python",
   "name": "python",
   "nbconvert_exporter": "python",
   "pygments_lexer": "ipython3",
   "version": "3.9.13"
  }
 },
 "nbformat": 4,
 "nbformat_minor": 2
}
