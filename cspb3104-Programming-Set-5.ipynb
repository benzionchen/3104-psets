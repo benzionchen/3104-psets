{
 "cells": [
  {
   "cell_type": "markdown",
   "metadata": {},
   "source": [
    "# CSPB-3104 Programming Assignment 5\n",
    "\n"
   ]
  },
  {
   "cell_type": "markdown",
   "metadata": {},
   "source": [
    "1) (15 points) Pre-order traversals of binary search trees\n",
    "\n",
    "You must write the function preorderToTree, which takes a preorder traversal of a binary tree (a list), and returns the Tree that it represents.  Your algorithm should be recursive.\n",
    "\n",
    "We've provided a Tree class for you, which you can make a new Tree by calling, \n",
    "\n",
    "    t1 = Tree(3) # t1 is a single node labelled 3 \n",
    "    t2 = Tree(2, Tree(1), t1) # t2 is a Tree with root labelled 2 and two children labelled 1 and 3 \n",
    "    t3 = Tree(1, None, Tree(2)) # t3 is a Tree with root labelled 1 and one right child labelled 2\n"
   ]
  },
  {
   "cell_type": "code",
   "execution_count": 58,
   "metadata": {},
   "outputs": [],
   "source": [
    "class Tree:\n",
    "    def __init__(self, value, leftTree = None, rightTree = None):\n",
    "        self.value = value \n",
    "        self.leftSubtree = leftTree \n",
    "        self.rightSubtree = rightTree\n",
    "    def __str__(self):\n",
    "        return \"Tree(\" + str(self.value) + \", \" + str(self.leftSubtree) + \", \" + str(self.rightSubtree) + \")\"\n",
    "    def __eq__(self, otherTree):\n",
    "        if self.value == otherTree.value and self.leftSubtree == otherTree.leftSubtree and self.rightSubtree == otherTree.rightSubtree:\n",
    "            return True\n",
    "        return False\n"
   ]
  },
  {
   "cell_type": "code",
   "execution_count": 60,
   "metadata": {},
   "outputs": [
    {
     "name": "stdout",
     "output_type": "stream",
     "text": [
      "True\n"
     ]
    }
   ],
   "source": [
    "t1 = Tree(3)\n",
    "t2 = Tree(2, Tree(1), t1) # You can include Trees inside of Trees\n",
    "t3 = Tree(2, Tree(1), Tree(3))\n",
    "print(t3 == t2) # You can compare Trees using =="
   ]
  },
  {
   "cell_type": "code",
   "execution_count": 61,
   "metadata": {},
   "outputs": [],
   "source": [
    "def preorderToTree(traversal):\n",
    "    # Your code here\n",
    "    raise NotImplementedError"
   ]
  },
  {
   "cell_type": "markdown",
   "metadata": {},
   "source": [
    "2) (10 points) Preorder to Postorder\n",
    "\n",
    "You must write preToPost, which takes a preorder traversal of a BST (a list) and returns a postorder traversal of BST (another list), __without using an intermediary Tree__. "
   ]
  },
  {
   "cell_type": "code",
   "execution_count": null,
   "metadata": {},
   "outputs": [],
   "source": [
    "\n",
    "def preToPost(preTrav):\n",
    "    # Your code here\n",
    "    raise NotImplementedError\n"
   ]
  },
  {
   "cell_type": "markdown",
   "metadata": {},
   "source": [
    "Testing below\n",
    "\n",
    "----"
   ]
  },
  {
   "cell_type": "code",
   "execution_count": null,
   "metadata": {},
   "outputs": [],
   "source": [
    "## DO NOT EDIT TESTING CODE FOR YOUR ANSWER ABOVE\n",
    "# Press shift enter to test your code. Ensure that your code has been saved first by pressing shift+enter on the previous cell.\n",
    "from IPython.core.display import display, HTML\n",
    "def preorderToTree_test():\n",
    "    failed = False\n",
    "    test_cases = [ \n",
    "        ([5, 2, 1, 3, 7, 6, 8], Tree(5, Tree(2, Tree(1), Tree(3)), Tree(7, Tree(6), Tree(8)))),\n",
    "        ([5, 4, 3, 2, 1], Tree(5, Tree(4, Tree(3, Tree(2, Tree(1), None), None), None), None)),\n",
    "        ([5, 6, 7, 8], Tree(5, None, Tree(6, None, Tree(7, None, Tree(8))))),\n",
    "        ([5, 3, 4, 7, 6], Tree(5, Tree(3, None, Tree(4)), Tree(7, Tree(6), None)))\n",
    "    ]\n",
    "    for (test_traversal, tree) in test_cases:\n",
    "        output = preorderToTree(test_traversal)\n",
    "        if (tree != output):\n",
    "            s1 = '<font color=\\\"red\\\"> Failed - test case: Inputs: traversal =' + str(test_traversal) + \"<br>\"\n",
    "            s2 = '  <b> Expected Output: </b> ' + str(tree) + ' Your code output: ' + str(output)+ \"<br>\"\n",
    "            display(HTML(s1+s2))\n",
    "            failed = True\n",
    "            \n",
    "    if failed:\n",
    "        display(HTML('<font color=\"red\"> One or more tests failed. </font>'))\n",
    "    else:\n",
    "        display(HTML('<font color=\"green\"> All tests succeeded! </font>'))\n",
    "preorderToTree_test()"
   ]
  },
  {
   "cell_type": "code",
   "execution_count": null,
   "metadata": {},
   "outputs": [],
   "source": [
    "## DO NOT EDIT TESTING CODE FOR YOUR ANSWER ABOVE\n",
    "# Press shift enter to test your code. Ensure that your code has been saved first by pressing shift+enter on the previous cell.\n",
    "from IPython.core.display import display, HTML\n",
    "def preToPost_test():\n",
    "    failed = False\n",
    "    test_cases = [ \n",
    "        ([5, 2, 1, 3, 7, 6, 8], [1, 3, 2, 6, 8, 7, 5]),\n",
    "        ([5, 4, 3, 2, 1], [1, 2, 3, 4, 5]),\n",
    "        ([5, 6, 7, 8], [8, 7, 6, 5]),\n",
    "        ([5, 3, 4, 7, 6], [4, 3, 6, 7, 5])\n",
    "    ]\n",
    "    for (test_traversal, tree) in test_cases:\n",
    "        output = preToPost(test_traversal)\n",
    "        if (tree != output):\n",
    "            s1 = '<font color=\\\"red\\\"> Failed - test case: Inputs: traversal =' + str(test_traversal) + \"<br>\"\n",
    "            s2 = '  <b> Expected Output: </b> ' + str(tree) + ' Your code output: ' + str(output)+ \"<br>\"\n",
    "            display(HTML(s1+s2))\n",
    "            failed = True\n",
    "            \n",
    "    if failed:\n",
    "        display(HTML('<font color=\"red\"> One or more tests failed. </font>'))\n",
    "    else:\n",
    "        display(HTML('<font color=\"green\"> All tests succeeded! </font>'))\n",
    "preToPost_test()"
   ]
  },
  {
   "cell_type": "code",
   "execution_count": null,
   "metadata": {},
   "outputs": [],
   "source": []
  }
 ],
 "metadata": {
  "kernelspec": {
   "display_name": "Python 3",
   "language": "python",
   "name": "python3"
  },
  "language_info": {
   "codemirror_mode": {
    "name": "ipython",
    "version": 3
   },
   "file_extension": ".py",
   "mimetype": "text/x-python",
   "name": "python",
   "nbconvert_exporter": "python",
   "pygments_lexer": "ipython3",
   "version": "3.8.10"
  }
 },
 "nbformat": 4,
 "nbformat_minor": 2
}
