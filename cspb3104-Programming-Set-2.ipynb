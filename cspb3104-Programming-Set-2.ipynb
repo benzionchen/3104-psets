{
 "cells": [
  {
   "cell_type": "markdown",
   "metadata": {},
   "source": [
    "# CSPB-3104 Programming Assignment 2\n",
    "\n"
   ]
  },
  {
   "cell_type": "markdown",
   "metadata": {},
   "source": [
    "1) (15 points) Implement mergesort\n",
    "\n",
    "Your function must sort the array in place, and return the number of direct comparisons (is a[i]  < a[j]?) made."
   ]
  },
  {
   "cell_type": "code",
   "execution_count": 1,
   "metadata": {},
   "outputs": [
    {
     "data": {
      "text/plain": [
       "2"
      ]
     },
     "execution_count": 1,
     "metadata": {},
     "output_type": "execute_result"
    }
   ],
   "source": [
    "a = [1,2,3,4,5]\n",
    "len(a)//2 # need to be no decimal"
   ]
  },
  {
   "cell_type": "code",
   "execution_count": 2,
   "metadata": {},
   "outputs": [],
   "source": [
    "mid = len(a)//2\n",
    "\n",
    "left_half = a[:mid]\n",
    "right_half = a[mid:]\n",
    "\n",
    "# testing code to index"
   ]
  },
  {
   "cell_type": "code",
   "execution_count": 3,
   "metadata": {},
   "outputs": [
    {
     "name": "stdout",
     "output_type": "stream",
     "text": [
      "[1, 2]\n",
      "[3, 4, 5]\n"
     ]
    }
   ],
   "source": [
    "# check if they are arrays\n",
    "\n",
    "print(left_half)\n",
    "\n",
    "print(right_half)\n"
   ]
  },
  {
   "cell_type": "code",
   "execution_count": 4,
   "metadata": {},
   "outputs": [],
   "source": [
    "def mergesort(a):\n",
    "    if len(a) > 1:\n",
    "        mid = len(a)//2\n",
    "        left_half = a[:mid] # want left_half and right_half to be an array by itself still\n",
    "        right_half = a[mid:]\n",
    "        \n",
    "        mergesort(left_half)\n",
    "        mergesort(right_half)\n",
    "    \n",
    "        i, j, k = 0, 0, 0\n",
    "        # initiate counters for indices to be used\n",
    "        # i is going to be used for left half\n",
    "        # j is used for right half\n",
    "        # k is used to track every loop\n",
    "\n",
    "        # merge halves together\n",
    "        while i < len(left_half) and j < len(right_half):\n",
    "            if left_half[i] <= right_half[j]:\n",
    "                a[k] = left_half[i] \n",
    "                i = i + 1\n",
    "\n",
    "            else: \n",
    "                a[k] = right_half[j]\n",
    "                j = j + 1\n",
    "\n",
    "            k = k + 1\n",
    "\n",
    "        # copy leftover elements from left half and right half\n",
    "        while i < len(left_half):\n",
    "            a[k] = left_half[i]\n",
    "            i = i + 1\n",
    "            k = k + 1\n",
    "\n",
    "        while j < len(right_half):\n",
    "            a[k] = right_half[j]\n",
    "            j = j + 1\n",
    "            k = k + 1\n",
    "        \n",
    "    return a\n",
    "\n",
    "    raise NotImplementedError "
   ]
  },
  {
   "cell_type": "code",
   "execution_count": 5,
   "metadata": {
    "scrolled": true
   },
   "outputs": [
    {
     "data": {
      "text/plain": [
       "[1, 2, 3, 3, 4, 4, 6]"
      ]
     },
     "execution_count": 5,
     "metadata": {},
     "output_type": "execute_result"
    }
   ],
   "source": [
    "# check for dupes - sorted dupes correctly \n",
    "\n",
    "a = [1, 3, 4, 2, 3, 4, 6]\n",
    "\n",
    "mergesort(a)\n"
   ]
  },
  {
   "cell_type": "markdown",
   "metadata": {},
   "source": [
    "2a. (5 points)  Finding a fixed point\n",
    "\n",
    "A fixed point of an array $A$, if it exists, is an index $i$ such that $A[i] = i$.\n",
    "Given a _sorted_ array $A$ of _distinct_ __integers__, return the index of the fixed point if one exists, or otherwise, return `-1` to signal that no fixed point exists. Your algorithm must run in $\\Theta(\\log(n))$ time."
   ]
  },
  {
   "cell_type": "code",
   "execution_count": 6,
   "metadata": {},
   "outputs": [],
   "source": [
    "# a fixed point is basically an index that matches the value so like [_, _, _, 3, _, _] would be a fixed point \n",
    "# a[3] = 3\n",
    "# array will be pre-sorted (this looks like a BST problem)\n",
    "# integers so it'll be discrete\n",
    "\n",
    "from random import sample\n",
    "\n",
    "def find_fixed_point(a):\n",
    "    low = 0 # this will serve as tracker, starting index of array\n",
    "    high = len(a) - 1 # initialize as last index of the array (this is upper bound of the search)\n",
    "    \n",
    "    while low <= high:  # loop condition \n",
    "        mid = (low + high)// 2 # mid is middle index of search, // makes sure its integer\n",
    "    \n",
    "        if a[mid] == mid:\n",
    "            # easy find\n",
    "            return mid\n",
    "        \n",
    "        elif a[mid] < mid: # the reason why this works is cus that it's sorted(?) in ascending order \n",
    "            low = mid + 1 # move to next element \n",
    "            # reassign new low and keep searching, discard left side of array \n",
    "            \n",
    "        else: \n",
    "            high = mid - 1 # catch-all for when the midpoint is greater than the midpoint index mid \n",
    "    \n",
    "    return -1 # no fixed point\n",
    "    \n",
    "    raise NotImplementedError\n"
   ]
  },
  {
   "cell_type": "code",
   "execution_count": 7,
   "metadata": {},
   "outputs": [
    {
     "data": {
      "text/plain": [
       "2"
      ]
     },
     "execution_count": 7,
     "metadata": {},
     "output_type": "execute_result"
    }
   ],
   "source": [
    "a = [1, 2, 2, 2, 3, 4]\n",
    "find_fixed_point(a)"
   ]
  },
  {
   "cell_type": "code",
   "execution_count": 8,
   "metadata": {},
   "outputs": [
    {
     "data": {
      "text/plain": [
       "-1"
      ]
     },
     "execution_count": 8,
     "metadata": {},
     "output_type": "execute_result"
    }
   ],
   "source": [
    "a = [1, 7, 7, 6]\n",
    "find_fixed_point(a)"
   ]
  },
  {
   "cell_type": "code",
   "execution_count": 9,
   "metadata": {
    "scrolled": true
   },
   "outputs": [
    {
     "data": {
      "text/plain": [
       "-1"
      ]
     },
     "execution_count": 9,
     "metadata": {},
     "output_type": "execute_result"
    }
   ],
   "source": [
    "a = [-2, 3, 0, 4]\n",
    "find_fixed_point(a)"
   ]
  },
  {
   "cell_type": "code",
   "execution_count": 10,
   "metadata": {},
   "outputs": [
    {
     "data": {
      "text/plain": [
       "-1"
      ]
     },
     "execution_count": 10,
     "metadata": {},
     "output_type": "execute_result"
    }
   ],
   "source": [
    "a = [-4, -1, 3, 4]\n",
    "find_fixed_point(a)"
   ]
  },
  {
   "cell_type": "markdown",
   "metadata": {},
   "source": [
    "2b. (5 points) Finding fixed points again\n",
    "\n",
    "Given a _sorted_ array $A$ of _distinct_ __natural numbers__, return the index of the fixed point if one exists, or otherwise, return `-1` to signal that no fixed point exists. Your algorithm must be as efficient as possible."
   ]
  },
  {
   "cell_type": "code",
   "execution_count": 18,
   "metadata": {},
   "outputs": [],
   "source": [
    "def find_fixed_point_natural(a):\n",
    "    if a[0] == 0: \n",
    "        return 0 # this way, it's not a variable that relies on input\n",
    "    else:\n",
    "        return -1 \n",
    "    \n",
    "    raise NotImplementedError"
   ]
  },
  {
   "cell_type": "code",
   "execution_count": 19,
   "metadata": {},
   "outputs": [
    {
     "data": {
      "text/plain": [
       "0"
      ]
     },
     "execution_count": 19,
     "metadata": {},
     "output_type": "execute_result"
    }
   ],
   "source": [
    "a = [0, 2, 3]\n",
    "find_fixed_point_natural(a)"
   ]
  },
  {
   "cell_type": "code",
   "execution_count": 20,
   "metadata": {},
   "outputs": [
    {
     "data": {
      "text/plain": [
       "-1"
      ]
     },
     "execution_count": 20,
     "metadata": {},
     "output_type": "execute_result"
    }
   ],
   "source": [
    "a = [1, 2, 3]\n",
    "find_fixed_point_natural(a)"
   ]
  },
  {
   "cell_type": "markdown",
   "metadata": {},
   "source": [
    "Testing below\n",
    "\n",
    "----"
   ]
  },
  {
   "cell_type": "code",
   "execution_count": 12,
   "metadata": {},
   "outputs": [
    {
     "data": {
      "text/html": [
       "<font color=\"green\"> All tests succeeded! </font>"
      ],
      "text/plain": [
       "<IPython.core.display.HTML object>"
      ]
     },
     "metadata": {},
     "output_type": "display_data"
    }
   ],
   "source": [
    "## DO NOT EDIT TESTING CODE FOR YOUR ANSWER ABOVE\n",
    "# Press shift enter to test your code. Ensure that your code has been saved first by pressing shift+enter on the previous cell.\n",
    "from IPython.core.display import display, HTML\n",
    "def mergesort_test():\n",
    "    failed = False\n",
    "    test_cases = [ \n",
    "        [9, 8, 7, 6, 5, 4, 3, 2, 1, 0],\n",
    "        [0, 1, 2, 3, 4, 5, 6, 7, 8, 9],\n",
    "        [0, 0, 0, 0, 0, 0, -1],\n",
    "        [10, -10, 9, -9, 8, -8, 7, -7]\n",
    "    ]\n",
    "    for test_array in test_cases:\n",
    "        original = test_array.copy()\n",
    "        expected_output = sorted(test_array)\n",
    "        compare_count = mergesort(test_array)\n",
    "        if (test_array != expected_output):\n",
    "            s1 = '<font color=\\\"red\\\"> Failed - test case: Inputs: a=' + str(original) + \"<br>\"\n",
    "            s2 = '  <b> Expected Output: </b> ' + str(expected_output) + ' Your code output: ' + str(test_array)+ \"<br>\"\n",
    "            display(HTML(s1+s2))\n",
    "            failed = True\n",
    "            \n",
    "    if failed:\n",
    "        display(HTML('<font color=\"red\"> One or more tests failed. </font>'))\n",
    "    else:\n",
    "        display(HTML('<font color=\"green\"> All tests succeeded! </font>'))\n",
    "mergesort_test()"
   ]
  },
  {
   "cell_type": "code",
   "execution_count": 13,
   "metadata": {},
   "outputs": [],
   "source": [
    "def find_fixed_point_very_naive(a):\n",
    "    n = len(a)\n",
    "    for i in range(0, n):\n",
    "        if a[i] == i:\n",
    "            return i\n",
    "    return -1"
   ]
  },
  {
   "cell_type": "code",
   "execution_count": 14,
   "metadata": {},
   "outputs": [
    {
     "name": "stdout",
     "output_type": "stream",
     "text": [
      " num tests  =  10000\n",
      " num passed =  10000\n"
     ]
    }
   ],
   "source": [
    "def test_find_fixed_point_code(n_tests, test_size):\n",
    "    n_passed = 0\n",
    "    for i in range(0, n_tests):\n",
    "        a = sorted( sample( range(-10 * n_tests,  10 * n_tests ), test_size))\n",
    "        j = find_fixed_point(a)\n",
    "        if j >= 0 and a[j] != j:\n",
    "            print(' Code failed for input: ', a, 'returned : ', j, 'expected:', find_fixed_point_very_naive(a))\n",
    "        elif j < 0: \n",
    "            assert j == -1, 'Your code returns an illegal negative number: have you implemented it yet?'\n",
    "            k = find_fixed_point_very_naive(a)\n",
    "            if k >= 0:\n",
    "                print('Code failed for input', a)\n",
    "                print('Your code failed to find a fixed point')\n",
    "                print('However, for j = ', k, 'a[j] =', a[k])\n",
    "            else: \n",
    "                n_passed = n_passed + 1\n",
    "        else: \n",
    "            n_passed = n_passed + 1\n",
    "    return n_passed\n",
    "\n",
    "n_tests = 10000\n",
    "n_passed = test_find_fixed_point_code(10000, 10)\n",
    "print(' num tests  = ', n_tests)\n",
    "print(' num passed = ', n_passed)"
   ]
  },
  {
   "cell_type": "code",
   "execution_count": 17,
   "metadata": {},
   "outputs": [
    {
     "name": "stdout",
     "output_type": "stream",
     "text": [
      " num tests  =  10000\n",
      " num passed =  10000\n"
     ]
    }
   ],
   "source": [
    "def test_find_fixed_point_natural_code(n_tests, test_size):\n",
    "    n_passed = 0\n",
    "    for i in range(0, n_tests):\n",
    "        a = sorted( sample( range(0,  10 * n_tests ), test_size))\n",
    "        j = find_fixed_point_natural(a)\n",
    "        if j >= 0 and a[j] != j:\n",
    "            print(' Code failed for input: ', a, 'returned : ', j, 'expected:', find_fixed_point_very_naive(a))\n",
    "        elif j < 0: \n",
    "            assert j == -1, 'Your code returns an illegal negative number: have you implemented it yet?'\n",
    "            k = find_fixed_point_very_naive(a)\n",
    "            if k >= 0:\n",
    "                print('Code failed for input', a)\n",
    "                print('Your code failed to find a fixed point')\n",
    "                print('However, for j = ', k, 'a[j] =', a[k])\n",
    "            else: \n",
    "                n_passed = n_passed + 1\n",
    "        else: \n",
    "            n_passed = n_passed + 1\n",
    "    return n_passed\n",
    "\n",
    "n_tests = 10000\n",
    "n_passed = test_find_fixed_point_natural_code(10000, 10)\n",
    "print(' num tests  = ', n_tests)\n",
    "print(' num passed = ', n_passed)"
   ]
  }
 ],
 "metadata": {
  "kernelspec": {
   "display_name": "Python 3 (ipykernel)",
   "language": "python",
   "name": "python3"
  },
  "language_info": {
   "codemirror_mode": {
    "name": "ipython",
    "version": 3
   },
   "file_extension": ".py",
   "mimetype": "text/x-python",
   "name": "python",
   "nbconvert_exporter": "python",
   "pygments_lexer": "ipython3",
   "version": "3.9.13"
  }
 },
 "nbformat": 4,
 "nbformat_minor": 2
}
