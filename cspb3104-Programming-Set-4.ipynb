{
 "cells": [
  {
   "cell_type": "markdown",
   "metadata": {},
   "source": [
    "# CSPB-3104 Programming Assignment 3\n",
    "\n"
   ]
  },
  {
   "cell_type": "markdown",
   "metadata": {},
   "source": [
    "1. (15 points)  Implement a heap"
   ]
  },
  {
   "cell_type": "code",
   "execution_count": 16,
   "metadata": {},
   "outputs": [],
   "source": [
    "# Given an array a, heapify(a) will turn a into a heap\n",
    "def heapify(a):\n",
    "    # start from last non-leaf node and bubble down to each element\n",
    "    n = len(a) # length of the array a, will be used later\n",
    "    for i in range(n // 2 - 1, -1, -1): # start iteration from last non-leaf to the root (first node), in complete binary tree,\n",
    "        # non-leafs are located at indices n//2-1 to 0 we're doing this to apply bubble_down\n",
    "        bubble_down(a, i)\n",
    "    raise NotImplementedError\n",
    "\n",
    "# Given a heap a and index j, bubble_up will bubble up the element at index j to the correct position \n",
    "def bubble_up(a, j):\n",
    "    # while the current node is smaller than its parent, bubble it up\n",
    "    parent = (j - 1) // 2 # calculates index of node j, the parent of a node at j is (j-1)//2\n",
    "    while j > 0 and a[j] < a[parent]: # checks if element at index j is less than its parent, if so, swap it to maintain min-heap\n",
    "        # do the swap with its parent\n",
    "        a[j], a[parent] = a[parent], a[j] \n",
    "        j = parent # update the parent index \n",
    "        parent = (j - 1) // 2 # update parent index to new parent's parent and continue\n",
    "    raise NotImplementedError\n",
    "\n",
    "# Given a heap a and index j, bubble_down will move the element at index j down to a correct position\n",
    "def bubble_down(a, j):\n",
    "    n = len(a) # use length to check whether node has child\n",
    "    # bubble down the element at index j\n",
    "    while 2 * j + 1 < n:  # while the current node has at least one child, in heap, left child of node at index j is at 2*j+1\n",
    "        # then the right child is 2*j+2 \n",
    "        left_child = 2 * j + 1 # left\n",
    "        right_child = 2 * j + 2 \n",
    "        # find the smaller child\n",
    "        smaller_child = left_child # assume smaller child is left, and can update if not true\n",
    "        if right_child < n and a[right_child] < a[left_child]: # if there is right child and it is smaller than left, update \n",
    "            # smaller_child to the right child\n",
    "            smaller_child = right_child\n",
    "        # if the current node is smaller than its smallest child, stop\n",
    "        if a[j] <= a[smaller_child]:\n",
    "            break\n",
    "        # otherwise, swap and continue\n",
    "        a[j], a[smaller_child] = a[smaller_child], a[j] # if current element is smaller than or equal to smallest child, heap \n",
    "        # property is true and can stop \n",
    "        j = smaller_child # move down the to the smaller child and continue\n",
    "    raise NotImplementedError\n",
    "\n",
    "# Given a heap a, extract_min(a) will swap the root with the last child of the heap, then fix the heap\n",
    "def extract_min(a): \n",
    "    # swap the root with the last element\n",
    "    n = len(a) # num of elements in heap\n",
    "    if n == 0:  # if heap is empty, raise error\n",
    "        print(\"empty heap\") # can just do a \"break\" too, just break out of function too\n",
    "    \n",
    "    # swap the root with the last element\n",
    "    a[0], a[n - 1] = a[n - 1], a[0]\n",
    "    \n",
    "    # remove the last element (which was the minimum)\n",
    "    min_val = a.pop() # store it in min_val\n",
    "    \n",
    "    if len(a) > 0: # if heap has elements\n",
    "        bubble_down(a, 0) # bubble down to restore heap property starting from root\n",
    "    \n",
    "    return min_val\n",
    "    raise NotImplementedError"
   ]
  },
  {
   "cell_type": "markdown",
   "metadata": {},
   "source": [
    "2) (10 points) Implement heapsort\n",
    "\n",
    "Your function must sort the array in place, and return the number of direct comparisons (is a[i]  < a[j]?) made.\n",
    "You must use your heap implementation."
   ]
  },
  {
   "cell_type": "code",
   "execution_count": 17,
   "metadata": {},
   "outputs": [],
   "source": [
    "def heapsort(a):\n",
    "    comparisons = 0  # count the number of comparisons\n",
    "    \n",
    "    def heapify(a): # builds max-heap from array a \n",
    "        nonlocal comparisons\n",
    "        n = len(a)\n",
    "        for i in range(n // 2 - 1, -1, -1): # loop to iterate from last element to \n",
    "            comparisons += bubble_down(a, i, n)\n",
    "\n",
    "    def bubble_down(a, j, n):\n",
    "        # n is passed to limit the range of the heap\n",
    "        nonlocal comparisons\n",
    "        count = 0  # count comparisons for this operation\n",
    "        while 2 * j + 1 < n:\n",
    "            left_child = 2 * j + 1\n",
    "            right_child = 2 * j + 2\n",
    "            larger_child = left_child\n",
    "            count += 1  # comparing left_child and right_child\n",
    "            if right_child < n and a[right_child] > a[left_child]:  # max-heap, choose larger child\n",
    "                larger_child = right_child\n",
    "            count += 1  # comparing a[j] with the larger_child\n",
    "            if a[j] >= a[larger_child]:\n",
    "                break\n",
    "            # swap and continue bubbling down\n",
    "            a[j], a[larger_child] = a[larger_child], a[j]\n",
    "            j = larger_child\n",
    "        return count  # return the number of comparisons made\n",
    "\n",
    "    # main heap sort logic\n",
    "    n = len(a)\n",
    "    \n",
    "    # turn the array into a max-heap\n",
    "    heapify(a)\n",
    "    \n",
    "    # extract elements one by one from the heap\n",
    "    for i in range(n - 1, 0, -1):\n",
    "        # swap the root (maximum) with the last element\n",
    "        a[0], a[i] = a[i], a[0]\n",
    "        # restore the heap property on the reduced heap\n",
    "        comparisons += bubble_down(a, 0, i)\n",
    "    \n",
    "    return comparisons\n",
    "    raise NotImplementedError "
   ]
  },
  {
   "cell_type": "markdown",
   "metadata": {},
   "source": [
    "Testing below\n",
    "\n",
    "----"
   ]
  },
  {
   "cell_type": "code",
   "execution_count": 18,
   "metadata": {},
   "outputs": [
    {
     "data": {
      "text/html": [
       "<font color=\"green\"> All tests succeeded! </font>"
      ],
      "text/plain": [
       "<IPython.core.display.HTML object>"
      ]
     },
     "metadata": {},
     "output_type": "display_data"
    }
   ],
   "source": [
    "## DO NOT EDIT TESTING CODE FOR YOUR ANSWER ABOVE\n",
    "# Press shift enter to test your code. Ensure that your code has been saved first by pressing shift+enter on the previous cell.\n",
    "from IPython.core.display import display, HTML\n",
    "def heapsort_test():\n",
    "    failed = False\n",
    "    test_cases = [ \n",
    "        [9, 8, 7, 6, 5, 4, 3, 2, 1, 0],\n",
    "        [0, 1, 2, 3, 4, 5, 6, 7, 8, 9],\n",
    "        [0, 0, 0, 0, 0, 0, -1],\n",
    "        [10, -10, 9, -9, 8, -8, 7, -7]\n",
    "    ]\n",
    "    for test_array in test_cases:\n",
    "        original = test_array.copy()\n",
    "        expected_output = sorted(test_array)\n",
    "        compare_count = heapsort(test_array)\n",
    "        if (test_array != expected_output):\n",
    "            s1 = '<font color=\\\"red\\\"> Failed - test case: Inputs: a=' + str(original) + \"<br>\"\n",
    "            s2 = '  <b> Expected Output: </b> ' + str(expected_output) + ' Your code output: ' + str(test_array)+ \"<br>\"\n",
    "            display(HTML(s1+s2))\n",
    "            failed = True\n",
    "            \n",
    "    if failed:\n",
    "        display(HTML('<font color=\"red\"> One or more tests failed. </font>'))\n",
    "    else:\n",
    "        display(HTML('<font color=\"green\"> All tests succeeded! </font>'))\n",
    "heapsort_test()"
   ]
  }
 ],
 "metadata": {
  "kernelspec": {
   "display_name": "Python 3 (ipykernel)",
   "language": "python",
   "name": "python3"
  },
  "language_info": {
   "codemirror_mode": {
    "name": "ipython",
    "version": 3
   },
   "file_extension": ".py",
   "mimetype": "text/x-python",
   "name": "python",
   "nbconvert_exporter": "python",
   "pygments_lexer": "ipython3",
   "version": "3.9.13"
  }
 },
 "nbformat": 4,
 "nbformat_minor": 2
}
