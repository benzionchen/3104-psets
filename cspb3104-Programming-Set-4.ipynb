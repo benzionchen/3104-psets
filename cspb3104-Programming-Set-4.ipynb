{
 "cells": [
  {
   "cell_type": "markdown",
   "metadata": {},
   "source": [
    "# CSPB-3104 Programming Assignment 3\n",
    "\n"
   ]
  },
  {
   "cell_type": "markdown",
   "metadata": {},
   "source": [
    "1. (15 points)  Implement a heap"
   ]
  },
  {
   "cell_type": "code",
   "execution_count": null,
   "metadata": {},
   "outputs": [],
   "source": [
    "# Given an array a, heapify(a) will turn a into a heap\n",
    "def heapify(a):\n",
    "    # Your code here\n",
    "    raise NotImplementedError\n",
    "\n",
    "# Given a heap a and index j, bubble_up will bubble up the element at index j to the correct position \n",
    "def bubble_up(a, j):\n",
    "    # Your code here\n",
    "    raise NotImplementedError\n",
    "\n",
    "# Given a heap a and index j, bubble_down will move the element at index j down to a correct position\n",
    "def bubble_down(a, j):\n",
    "    # Your code here\n",
    "    raise NotImplementedError\n",
    "\n",
    "# Given a heap a, extract_min(a) will swap the root with the last child of the heap, then fix the heap\n",
    "def extract_min(a):\n",
    "    # Your code here\n",
    "    raise NotImplementedError"
   ]
  },
  {
   "cell_type": "markdown",
   "metadata": {},
   "source": [
    "2) (10 points) Implement heapsort\n",
    "\n",
    "Your function must sort the array in place, and return the number of direct comparisons (is a[i]  < a[j]?) made.\n",
    "You must use your heap implementation."
   ]
  },
  {
   "cell_type": "code",
   "execution_count": 1,
   "metadata": {},
   "outputs": [],
   "source": [
    "def heapsort(a):\n",
    "  # Your code here\n",
    "  raise NotImplementedError "
   ]
  },
  {
   "cell_type": "markdown",
   "metadata": {},
   "source": [
    "Testing below\n",
    "\n",
    "----"
   ]
  },
  {
   "cell_type": "code",
   "execution_count": null,
   "metadata": {},
   "outputs": [],
   "source": [
    "## DO NOT EDIT TESTING CODE FOR YOUR ANSWER ABOVE\n",
    "# Press shift enter to test your code. Ensure that your code has been saved first by pressing shift+enter on the previous cell.\n",
    "from IPython.core.display import display, HTML\n",
    "def heapsort_test():\n",
    "    failed = False\n",
    "    test_cases = [ \n",
    "        [9, 8, 7, 6, 5, 4, 3, 2, 1, 0],\n",
    "        [0, 1, 2, 3, 4, 5, 6, 7, 8, 9],\n",
    "        [0, 0, 0, 0, 0, 0, -1],\n",
    "        [10, -10, 9, -9, 8, -8, 7, -7]\n",
    "    ]\n",
    "    for test_array in test_cases:\n",
    "        original = test_array.copy()\n",
    "        expected_output = sorted(test_array)\n",
    "        compare_count = heapsort(test_array)\n",
    "        if (test_array != expected_output):\n",
    "            s1 = '<font color=\\\"red\\\"> Failed - test case: Inputs: a=' + str(original) + \"<br>\"\n",
    "            s2 = '  <b> Expected Output: </b> ' + str(expected_output) + ' Your code output: ' + str(test_array)+ \"<br>\"\n",
    "            display(HTML(s1+s2))\n",
    "            failed = True\n",
    "            \n",
    "    if failed:\n",
    "        display(HTML('<font color=\"red\"> One or more tests failed. </font>'))\n",
    "    else:\n",
    "        display(HTML('<font color=\"green\"> All tests succeeded! </font>'))\n",
    "heapsort_test()"
   ]
  }
 ],
 "metadata": {
  "kernelspec": {
   "display_name": "Python 3",
   "language": "python",
   "name": "python3"
  },
  "language_info": {
   "codemirror_mode": {
    "name": "ipython",
    "version": 3
   },
   "file_extension": ".py",
   "mimetype": "text/x-python",
   "name": "python",
   "nbconvert_exporter": "python",
   "pygments_lexer": "ipython3",
   "version": "3.8.10"
  }
 },
 "nbformat": 4,
 "nbformat_minor": 2
}
