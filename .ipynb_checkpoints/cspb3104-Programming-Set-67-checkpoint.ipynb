{
 "cells": [
  {
   "cell_type": "markdown",
   "metadata": {},
   "source": [
    "# CSPB 3104 Programming Assignment 6/7"
   ]
  },
  {
   "cell_type": "markdown",
   "metadata": {},
   "source": [
    "## Question 1: Mini Magic Bean Stalks\n",
    "\n",
    "Mr E is growing magic beans again, but this time for a different purpose.  \n",
    "He wants to grow specific lengths of bean stalks to use as bridges and ladders for his pet frogs.\n",
    "\n",
    "He starts with a 1 inch cutting of a stalk, and each day he can apply one drop of one of four fertilizers to it, making it grow either 1, 4, 5, or 11 inches, depending on the fertilizer.\n",
    "He wishes to get a bean stalk of length n using the minimum number of drops of fertilizer, and he doesn't want to cut the finished stalk (you cannot shorten a stalk).\n",
    "\n",
    "Your goal is to use dynamic programming to find out how to grow a stalk of length n from a stalk of length 1 using the least number of steps.\n",
    "\n",
    "## 1(A) Write a recurrence.\n",
    "\n",
    "Write a recurrence `minDrops(j, n)` that represents the minimum number of drops of fertilizer needed to grow a stalk from j inches to n inches.\n"
   ]
  },
  {
   "cell_type": "code",
   "execution_count": 45,
   "metadata": {},
   "outputs": [],
   "source": [
    "# recurrence relation minDrops(j, n) = 1 + min(minDrops(j + 1, n), minDrops(j + 4, n), minDrops(j + 5, n), minDrops(j + 11, n))\n",
    "\n",
    "def minDrops(j, n):\n",
    "    if j == n:\n",
    "        return 0\n",
    "    if j > n: \n",
    "        return float('inf')\n",
    "    \n",
    "    return 1 + min(minDrops(j + 1, n), minDrops(j + 4, n), minDrops(j + 5, n), minDrops(j + 11, n))"
   ]
  },
  {
   "cell_type": "code",
   "execution_count": 46,
   "metadata": {},
   "outputs": [
    {
     "name": "stdout",
     "output_type": "stream",
     "text": [
      "2\n",
      "2\n",
      "4\n",
      "3\n",
      "5\n"
     ]
    }
   ],
   "source": [
    "## Test Code: Do not edit\n",
    "print(minDrops(1, 9)) # should be 2\n",
    "print(minDrops(1, 13)) # should be 2\n",
    "print(minDrops(1, 19)) # should be 4\n",
    "print(minDrops(1, 34)) # should be 3\n",
    "print(minDrops(1, 43)) # should be 5, this one took a while"
   ]
  },
  {
   "cell_type": "markdown",
   "metadata": {},
   "source": [
    "## 1(B) Memoize the Recurrence.\n",
    "\n",
    "Assume that n is fixed. The memo table $T[0], \\ldots, T[n]$ should store the value of `minDrops(j, n)`. "
   ]
  },
  {
   "cell_type": "code",
   "execution_count": 47,
   "metadata": {},
   "outputs": [],
   "source": [
    "def minDrops_Memoize(n): # Assume that j = 1 is always the starting point.\n",
    "    # must return a number\n",
    "    # answer must coincide with recursive version\n",
    "    T = [float('inf')] * (n + 1)\n",
    "    \n",
    "    # if j = n, no drops needed\n",
    "    T[n] = 0\n",
    "    \n",
    "    # create a table from n-1 down to 1\n",
    "    for j in range (n-1, 0, -1):\n",
    "        if j + 1 <= n:\n",
    "            T[j] = min(T[j], 1 + T[j +1])\n",
    "            \n",
    "        if j + 4 <= n:\n",
    "            T[j] = min(T[j], 1 + T[j + 4])\n",
    "            \n",
    "        if j + 5 <= n:\n",
    "            T[j] = min(T[j], 1 + T[j + 5])\n",
    "            \n",
    "        if j + 11 <= n:\n",
    "            T[j] = min(T[j], 1 + T[j + 11])\n",
    "        \n",
    "    return T[1] "
   ]
  },
  {
   "cell_type": "code",
   "execution_count": 48,
   "metadata": {},
   "outputs": [
    {
     "name": "stdout",
     "output_type": "stream",
     "text": [
      "2\n",
      "2\n",
      "4\n",
      "3\n",
      "5\n"
     ]
    }
   ],
   "source": [
    "## Test Code: Do not edit\n",
    "print(minDrops_Memoize(9)) # should be 2\n",
    "print(minDrops_Memoize(13)) # should be 2\n",
    "print(minDrops_Memoize(19)) # should be 4\n",
    "print(minDrops_Memoize(34)) # should be 3\n",
    "print(minDrops_Memoize(43)) # should be 5"
   ]
  },
  {
   "cell_type": "markdown",
   "metadata": {},
   "source": [
    "## 1(C) Recover the Solution\n",
    "\n",
    "Modify the solution from part B to also return which fertilizer Mr E needs to use at each step.  Your answer must be\n",
    "a pair: `minimum number of total drops, list of fertilizer per drop: each elements of this list must be 1, 4, 5 or 11`\n"
   ]
  },
  {
   "cell_type": "code",
   "execution_count": 49,
   "metadata": {},
   "outputs": [],
   "source": [
    "def minDrops_Solution(n): # Assume that j = 1 is always the starting point\n",
    "   # must return a pair of number, list\n",
    "   # number returned is the same as minDrops_Memoize\n",
    "   # list must be a list of consisting of elements [1,4, 5, 11]\n",
    "    T = [float('inf')] * (n + 1)\n",
    "    \n",
    "    F = [-1] * (n + 1)\n",
    "    \n",
    "    # the base case is j = n\n",
    "    T[n] = 0\n",
    "    \n",
    "    # fill the tables T and F from n-1 to 1\n",
    "    for j in range(n-1, 0, -1):\n",
    "        # for each fertilizer option, update the minimum drops\n",
    "        if j + 1 <= n and T[j] > 1 + T[j + 1]:\n",
    "            T[j] = 1 + T[j + 1]\n",
    "            F[j] = 1 # use the fertilizer that grows 1 inch\n",
    "        if j + 4 <= n and T[j] > 1 + T[j + 4]:\n",
    "            T[j] = 1 + T[j + 4]\n",
    "            F[j] = 4\n",
    "        if j + 5 <= n and T[j] > 1 + T[j + 5]:\n",
    "            T[j] = 1 + T[j + 5]\n",
    "            F[j] = 5\n",
    "        if j + 11 <= n and T[j] > 1 + T[j + 11]:\n",
    "            T[j] = 1 + T[j + 11]\n",
    "            F[j] = 11\n",
    "    j = 1\n",
    "    denominations = [] # the fertilizers used\n",
    "    \n",
    "    while j < n:\n",
    "        fertilizer = F[j]\n",
    "        denominations.append(fertilizer)\n",
    "        j += fertilizer \n",
    "    \n",
    "    return T[1], denominations\n",
    "    "
   ]
  },
  {
   "cell_type": "code",
   "execution_count": 50,
   "metadata": {},
   "outputs": [
    {
     "name": "stdout",
     "output_type": "stream",
     "text": [
      "(2, [4, 4])\n",
      "(2, [1, 11])\n",
      "(4, [1, 1, 5, 11])\n",
      "(3, [11, 11, 11])\n",
      "(5, [4, 5, 11, 11, 11])\n"
     ]
    }
   ],
   "source": [
    "## Test Code: Do not edit\n",
    "print(minDrops_Solution(9)) # should be 2, [4, 4]\n",
    "print(minDrops_Solution(13)) # should be 2, [1, 11]\n",
    "print(minDrops_Solution(19)) # should be 4, [1, 1, 5, 11]\n",
    "print(minDrops_Solution(34)) # should be 3, [11, 11, 11]\n",
    "print(minDrops_Solution(43)) # should be 5, [4, 5, 11, 11, 11]"
   ]
  },
  {
   "cell_type": "markdown",
   "metadata": {},
   "source": [
    "----"
   ]
  },
  {
   "cell_type": "markdown",
   "metadata": {},
   "source": [
    "## Question 2: Bad sizes\n",
    "\n",
    "Mr E has noticed something quite strange:  Any bean stalk whose length leaves a remainder of 2 when divided by 7 dies over night.  \n",
    "He demands you change your algorithm to avoid these 'dead lengths.'\n",
    "You think it might just be his cat digging around in the pots late at night, but you don't wish to argue.\n",
    "\n",
    "## 2(A) Write a recurrence.\n",
    "\n",
    "Write a recurrence `minGoodDrops(j, n)` that represents the minimum number of drops of fertilizer necessary to grow a bean stalk from j inches to n inches, avoiding any intermediate stage of length k when k mod 7 = 2.\n"
   ]
  },
  {
   "cell_type": "code",
   "execution_count": 51,
   "metadata": {},
   "outputs": [],
   "source": [
    "def minGoodDrops(j, n):\n",
    "    drops = [1, 4, 5, 11]\n",
    "    if j == n : \n",
    "        return 0\n",
    "    else:\n",
    "        if j > n: \n",
    "            return 1000\n",
    "        min_drops = 1000\n",
    "        for drop in drops:\n",
    "            new_length = n - drop\n",
    "            if new_length % 7 == 2:\n",
    "                continue\n",
    "            min_drops = min(min_drops, 1 + minGoodDrops(j, new_length))\n",
    "        return min_drops"
   ]
  },
  {
   "cell_type": "code",
   "execution_count": 52,
   "metadata": {},
   "outputs": [
    {
     "name": "stdout",
     "output_type": "stream",
     "text": [
      "2\n",
      "2\n",
      "4\n",
      "5\n",
      "5\n",
      "6\n"
     ]
    }
   ],
   "source": [
    "## Test Code: Do not edit\n",
    "print(minGoodDrops(1, 9)) # should be 2\n",
    "print(minGoodDrops(1, 13)) # should be 2\n",
    "print(minGoodDrops(1, 19)) # should be 4\n",
    "print(minGoodDrops(1, 34)) # should be 5\n",
    "print(minGoodDrops(1, 43)) # should be 5\n",
    "print(minGoodDrops(1, 55)) # should be 6, this 1 also took a while"
   ]
  },
  {
   "cell_type": "markdown",
   "metadata": {},
   "source": [
    "## 2(B) Memoize the recurrence in 2(A)"
   ]
  },
  {
   "cell_type": "code",
   "execution_count": 53,
   "metadata": {},
   "outputs": [],
   "source": [
    "def minGoodDrops_Memoize(n): # j is assumed to be 1 \n",
    "    T = {}\n",
    "    \n",
    "    def minGoodDrops(j, n):\n",
    "        if j == n:\n",
    "            return 0\n",
    "        if j > n:\n",
    "            return 100\n",
    "        if (j, n) in T:\n",
    "            return T[(j, n)]\n",
    "        drops = [1, 4, 5, 11]\n",
    "        min_drops = 100\n",
    "        for drop in drops:\n",
    "            new_length = n - drop\n",
    "            if new_length % 7 == 2:\n",
    "                continue\n",
    "            min_drops = min(min_drops, 1 + minGoodDrops(j, new_length))\n",
    "            \n",
    "        T[(j, n)] = min_drops\n",
    "        return min_drops\n",
    "    \n",
    "    return minGoodDrops(1, n)"
   ]
  },
  {
   "cell_type": "code",
   "execution_count": 54,
   "metadata": {},
   "outputs": [
    {
     "name": "stdout",
     "output_type": "stream",
     "text": [
      "2\n",
      "2\n",
      "4\n",
      "5\n",
      "5\n",
      "6\n",
      "8\n",
      "83\n"
     ]
    }
   ],
   "source": [
    "## Test Code: Do not edit\n",
    "print(minGoodDrops_Memoize(9)) # should be 2\n",
    "print(minGoodDrops_Memoize(13)) # should be 2\n",
    "print(minGoodDrops_Memoize(19)) # should be 4\n",
    "print(minGoodDrops_Memoize(34)) # should be 5\n",
    "print(minGoodDrops_Memoize(43)) # should be 5\n",
    "print(minGoodDrops_Memoize(55)) # should be 6\n",
    "print(minGoodDrops_Memoize(69)) # should be 8\n",
    "print(minGoodDrops_Memoize(812)) # should be 83"
   ]
  },
  {
   "cell_type": "markdown",
   "metadata": {},
   "source": [
    "## 2(C) Recover the solution in terms of the growth from each drop of fertilizer."
   ]
  },
  {
   "cell_type": "code",
   "execution_count": 42,
   "metadata": {},
   "outputs": [],
   "source": [
    "def minGoodDrops_Solution(n):\n",
    "    T = {}  # memoization dictionary to store the results of subproblems\n",
    "    \n",
    "    def minGoodDrops(j):\n",
    "        if j == n:\n",
    "            return 0, []  # base case: no more drops needed, empty sequence\n",
    "        \n",
    "        if j > n:\n",
    "            return 100, []  # invalid path, large number and empty sequence\n",
    "        \n",
    "        if j in T:\n",
    "            return T[j]  # return memoized result if it exists\n",
    "        \n",
    "        drops = [1, 4, 5, 11]\n",
    "        min_drops = 100\n",
    "        best_sequence = []\n",
    "        \n",
    "        for drop in drops:\n",
    "            new_length = j + drop  # correctly grow the stalk by adding the drop\n",
    "            \n",
    "            # skip intermediate lengths where new_length % 7 == 2\n",
    "            if new_length % 7 == 2 and new_length != n:\n",
    "                continue  # skip invalid lengths (only during the growth process)\n",
    "            \n",
    "            # recursively calculate the minimum drops and the sequence used\n",
    "            num_drops, sequence = minGoodDrops(new_length)\n",
    "            \n",
    "            if 1 + num_drops < min_drops:  # if this path gives fewer drops\n",
    "                min_drops = 1 + num_drops\n",
    "                best_sequence = [drop] + sequence  # record the best sequence\n",
    "        \n",
    "        T[j] = (min_drops, best_sequence)  # memoize the result\n",
    "        return T[j]\n",
    "    \n",
    "    # start the recursion from length 1\n",
    "    min_drops, fertilizers_used = minGoodDrops(1)\n",
    "    return min_drops, fertilizers_used\n"
   ]
  },
  {
   "cell_type": "code",
   "execution_count": 43,
   "metadata": {},
   "outputs": [
    {
     "name": "stdout",
     "output_type": "stream",
     "text": [
      "(2, [4, 4])\n",
      "(2, [11, 1])\n",
      "(4, [4, 5, 4, 5])\n",
      "(5, [5, 1, 11, 11, 5])\n",
      "(5, [4, 5, 11, 11, 11])\n",
      "(6, [5, 11, 11, 11, 11, 5])\n",
      "(8, [11, 1, 11, 11, 11, 11, 11, 1])\n",
      "(83, [5, 11, 11, 11, 11, 5, 11, 11, 11, 11, 5, 11, 11, 11, 11, 5, 11, 11, 11, 11, 5, 11, 11, 11, 11, 5, 11, 11, 11, 11, 5, 11, 11, 11, 11, 5, 11, 11, 11, 11, 5, 11, 11, 11, 11, 5, 11, 11, 11, 11, 5, 11, 11, 11, 11, 5, 11, 11, 11, 11, 5, 11, 11, 11, 11, 5, 11, 11, 11, 11, 5, 11, 11, 11, 11, 5, 11, 11, 11, 11, 5, 11, 11])\n"
     ]
    }
   ],
   "source": [
    "## Test Code: Do not edit\n",
    "print(minGoodDrops_Solution(9)) # should be 2, [4, 4]\n",
    "print(minGoodDrops_Solution(13)) # should be 2, [11, 1]\n",
    "print(minGoodDrops_Solution(19)) # should be 4, [4, 5, 4, 5]\n",
    "print(minGoodDrops_Solution(34)) # should be 5, [5, 1, 11, 11, 5]\n",
    "print(minGoodDrops_Solution(43)) # should be 5, [4, 5, 11, 11, 11]\n",
    "print(minGoodDrops_Solution(55)) # should be 6, [5, 11, 11, 11, 11, 5]\n",
    "print(minGoodDrops_Solution(69)) # should be 8, [11, 1, 11, 11, 11, 11, 11, 1]\n",
    "print(minGoodDrops_Solution(812)) # should be 83, [5, 11, 11, 11, 11, 5, 11, 11, 11, 11, 5, 11, 11, 11, 11, 5, 11, 11, 11, 11, 5, 11, 11, 11, 11, 5, 11, 11, 11, 11, 5, 11, 11, 11, 11, 5, 11, 11, 11, 11, 5, 11, 11, 11, 11, 5, 11, 11, 11, 11, 5, 11, 11, 11, 11, 5, 11, 11, 11, 11, 5, 11, 11, 11, 11, 5, 11, 11, 11, 11, 5, 11, 11, 11, 11, 5, 11, 11, 11, 11, 5, 11, 11]"
   ]
  },
  {
   "cell_type": "markdown",
   "metadata": {},
   "source": [
    "## Question 3: Growth on a budget\n",
    "\n",
    "\"Your plans always cost too much!\" Mr E exclaimed.  He never told you he was on a budget, nor how much each fertilizer cost, but somehow he expected you to factor in his fixed income while growing his increasingly ornate jungle frog habitats.  You delicately ask how much each fertilizer costs, and got the following information:\n",
    "\n",
    "| Daily growth (in)  | Cost ($) |\n",
    "|---------------|----------|\n",
    "|  1            |    1     |\n",
    "|  4            |    2     |\n",
    "|  5            |    3     |\n",
    "| 11            |    7     |\n",
    "\n",
    "\n",
    "Given $n$, and initial investment $D_0$, plan how Mr E can grow an n inch bean stalk while\n",
    "avoiding the 'dead lengths' (when the stalk grows to a length 2 mod 7), and not going over budget."
   ]
  },
  {
   "cell_type": "markdown",
   "metadata": {},
   "source": [
    "----"
   ]
  },
  {
   "cell_type": "markdown",
   "metadata": {},
   "source": [
    "### 3(A): Write a Recurrence\n",
    "\n",
    "Write a recurrence `minDropsWithBudget(j, D, n)` given a stalk of length j, with budget D, returns the minimum number of drops of fertilizer needed to grow to length n, while avoiding any intermediate length k where k = 2 mod 7. "
   ]
  },
  {
   "cell_type": "code",
   "execution_count": null,
   "metadata": {},
   "outputs": [],
   "source": [
    "# n = target length\n",
    "# D = initial investment\n",
    "# j = starting size \n",
    "\n",
    "# growth to dollar ratio:\n",
    "# 1/1 = 1 \n",
    "# 4/2 = 2\n",
    "# 5/3 = 1.667\n",
    "# 11/7 = 1.5714\n"
   ]
  },
  {
   "cell_type": "code",
   "execution_count": 61,
   "metadata": {},
   "outputs": [],
   "source": [
    "def minDropsWithBudget(j, D, n):\n",
    "    T = {}  # memoization table to store results\n",
    "\n",
    "    # recursive helper function\n",
    "    def dp(j, D):\n",
    "        # base case: if we have reached the target length\n",
    "        if j == n:\n",
    "            return 0  # reached the target length, return 0 drops\n",
    "        if j > n or D <= 1:  # ensure we don't go below $1 of budget\n",
    "            return 1000  # invalid path: overshot the length or exceeded the budget\n",
    "\n",
    "        if (j, D) in T:\n",
    "            return T[(j, D)]  # return cached result\n",
    "\n",
    "        # fertilizer options with their associated costs\n",
    "        fertilizers = [(1, 1), (4, 2), (5, 3), (11, 7)]  # (growth, cost)\n",
    "        \n",
    "        min_drops = 1000\n",
    "\n",
    "        # try each fertilizer option\n",
    "        for growth, cost in fertilizers:\n",
    "            new_length = j + growth\n",
    "            remaining_budget = D - cost\n",
    "\n",
    "            # skip if we can't afford the fertilizer or if we will run out of budget\n",
    "            if remaining_budget < 1:\n",
    "                continue\n",
    "\n",
    "            # only allow valid lengths and avoid dead lengths unless we exactly reach n\n",
    "            if new_length <= n and (new_length % 7 != 2 or new_length == n):\n",
    "                num_drops = dp(new_length, remaining_budget)\n",
    "\n",
    "                # if this path is valid and gives fewer drops\n",
    "                if 1 + num_drops < min_drops:\n",
    "                    min_drops = 1 + num_drops\n",
    "\n",
    "        # cache the result\n",
    "        T[(j, D)] = min_drops\n",
    "        return T[(j, D)]\n",
    "\n",
    "    # start recursion from length 1 and the full budget\n",
    "    min_drops = dp(1, D)\n",
    "    \n",
    "    # if no valid solution is found, return -1 as an indicator\n",
    "    if min_drops == 1000:\n",
    "        return -1\n",
    "    return min_drops"
   ]
  },
  {
   "cell_type": "code",
   "execution_count": 62,
   "metadata": {},
   "outputs": [
    {
     "name": "stdout",
     "output_type": "stream",
     "text": [
      "2\n",
      "1\n",
      "5\n",
      "7\n",
      "7\n",
      "7\n",
      "11\n",
      "12\n"
     ]
    }
   ],
   "source": [
    "# test code do not edit\n",
    "print(minDropsWithBudget(1, 25, 10)) # must be 2\n",
    "print(minDropsWithBudget(1, 25, 6)) # must be 1\n",
    "print(minDropsWithBudget(1, 25, 30)) # must be 5\n",
    "print(minDropsWithBudget(1, 16, 30)) # must be 7\n",
    "print(minDropsWithBudget(1, 18, 31)) # must be 7\n",
    "print(minDropsWithBudget(1, 22, 38)) # must be 7\n",
    "print(minDropsWithBudget(1, 32, 55)) # must be 11\n",
    "print(minDropsWithBudget(1, 35, 60)) # must be 12"
   ]
  },
  {
   "cell_type": "markdown",
   "metadata": {},
   "source": [
    "## 3(B): Memoize the Recurrence\n",
    "\n",
    "Write a memo table to memoize the recurrence. Your memo table must be  of the form $T[j][d]$ for $j$ ranging from $1$ to $n$\n",
    "and $d$ ranging from $0$ to $D$. You will have to handle the base cases carefully."
   ]
  },
  {
   "cell_type": "code",
   "execution_count": 70,
   "metadata": {},
   "outputs": [],
   "source": [
    "def minDropsWithBudget_Memoize(D, n):  # j is assumed 1 and omitted as an argument\n",
    "    # memoization table T[j][d] where j is the current length and d is the budget\n",
    "    T = [[None for _ in range(D + 1)] for _ in range(n + 1)]\n",
    "    \n",
    "    # fertilizer options with growth and associated costs\n",
    "    fertilizers = [(1, 1), (4, 2), (5, 3), (11, 7)]\n",
    "\n",
    "    # base case for the recursive function\n",
    "    def dp(j, d):\n",
    "        # if we have reached the target length and budget is still at least 1\n",
    "        if j == n and d >= 1:\n",
    "            return 0  # Reached the target length, return 0 drops\n",
    "        \n",
    "        # if we've overshot the length or if the budget is exhausted\n",
    "        if j > n or d < 1:\n",
    "            return 1000  # invalid path\n",
    "\n",
    "        # if the result is already computed, return the cached value\n",
    "        if T[j][d] is not None:\n",
    "            return T[j][d]\n",
    "\n",
    "        # initialize the minimum drops to a large number\n",
    "        min_drops = 1000\n",
    "\n",
    "        # try each fertilizer option\n",
    "        for growth, cost in fertilizers:\n",
    "            new_length = j + growth\n",
    "            remaining_budget = d - cost\n",
    "\n",
    "            # skip if the budget is exhausted, or avoid intermediate dead lengths (k % 7 == 2)\n",
    "            if remaining_budget >= 0 and (new_length % 7 != 2 or new_length == n):\n",
    "                num_drops = dp(new_length, remaining_budget)\n",
    "                min_drops = min(min_drops, 1 + num_drops)\n",
    "        \n",
    "        # store the result in the memoization table\n",
    "        T[j][d] = min_drops\n",
    "        return T[j][d]\n",
    "\n",
    "    # start recursion from length 1 and the full budget\n",
    "    result = dp(1, D)\n",
    "\n",
    "    # if no valid solution is found, return -1 as an indicator\n",
    "    if result >= 1000:\n",
    "        return -1\n",
    "    return result"
   ]
  },
  {
   "cell_type": "code",
   "execution_count": 71,
   "metadata": {},
   "outputs": [
    {
     "name": "stdout",
     "output_type": "stream",
     "text": [
      "2\n",
      "1\n",
      "5\n",
      "7\n",
      "7\n",
      "7\n",
      "11\n",
      "12\n"
     ]
    }
   ],
   "source": [
    "# test code do not edit\n",
    "print(minDropsWithBudget_Memoize(25, 10)) # must be 2\n",
    "print(minDropsWithBudget_Memoize(25, 6)) # must be 1\n",
    "print(minDropsWithBudget_Memoize(25, 30)) # must be 5\n",
    "print(minDropsWithBudget_Memoize(16, 30)) # must be 7\n",
    "print(minDropsWithBudget_Memoize(18, 31)) # must be 7\n",
    "print(minDropsWithBudget_Memoize(22, 38)) # must be 7\n",
    "print(minDropsWithBudget_Memoize(32, 55)) # must be 11\n",
    "print(minDropsWithBudget_Memoize(35, 60)) # must be 12"
   ]
  },
  {
   "cell_type": "markdown",
   "metadata": {},
   "source": [
    "## 3(C): Recover the Solution\n",
    "\n",
    "Now write code that will also return the minimum number of drops along with the list of fertilizers (in order) that will achieve this minimum number"
   ]
  },
  {
   "cell_type": "code",
   "execution_count": 72,
   "metadata": {},
   "outputs": [],
   "source": [
    "def minDropsWithBudget_Solution(D, n):  # j is assumed 1 and omitted as an argument\n",
    "    # memoization table T[j][d] where j is the current length and d is the budget\n",
    "    T = [[None for _ in range(D + 1)] for _ in range(n + 1)]\n",
    "    P = [[None for _ in range(D + 1)] for _ in range(n + 1)]  # To store the list of fertilizers\n",
    "\n",
    "    # fertilizer options with growth and associated costs\n",
    "    fertilizers = [(1, 1), (4, 2), (5, 3), (11, 7)]  # (growth, cost)\n",
    "\n",
    "    # base case for the recursive function\n",
    "    def dp(j, d):\n",
    "        # if we have reached the target length and budget is still at least 1\n",
    "        if j == n and d >= 1:\n",
    "            return 0, []  # Reached the target length, return 0 drops and empty fertilizer list\n",
    "        \n",
    "        # if we've overshot the length or if the budget is exhausted\n",
    "        if j > n or d < 1:\n",
    "            return 1000, []  # Invalid path\n",
    "\n",
    "        # if the result is already computed, return the cached value\n",
    "        if T[j][d] is not None:\n",
    "            return T[j][d], P[j][d]\n",
    "\n",
    "        # initialize the minimum drops to a large number and an empty fertilizer list\n",
    "        min_drops = 1000\n",
    "        best_sequence = []\n",
    "\n",
    "        # try each fertilizer option\n",
    "        for growth, cost in fertilizers:\n",
    "            new_length = j + growth\n",
    "            remaining_budget = d - cost\n",
    "\n",
    "            # skip if the budget is exceeded, or avoid intermediate dead lengths (k % 7 == 2)\n",
    "            if remaining_budget >= 0 and (new_length % 7 != 2 or new_length == n):\n",
    "                num_drops, fertilizers_used = dp(new_length, remaining_budget)\n",
    "                if 1 + num_drops < min_drops:\n",
    "                    min_drops = 1 + num_drops\n",
    "                    best_sequence = [growth] + fertilizers_used\n",
    "        \n",
    "        # store the result in the memoization table\n",
    "        T[j][d] = min_drops\n",
    "        P[j][d] = best_sequence\n",
    "        return T[j][d], P[j][d]\n",
    "\n",
    "    # recursion from length 1 and the full budget\n",
    "    min_drops, sequence = dp(1, D)\n",
    "    \n",
    "    # no valid solution is found, return -1 as an indicator\n",
    "    if min_drops >= 1000:\n",
    "        return -1, []\n",
    "    return min_drops, sequence"
   ]
  },
  {
   "cell_type": "code",
   "execution_count": 73,
   "metadata": {},
   "outputs": [
    {
     "name": "stdout",
     "output_type": "stream",
     "text": [
      "(2, [4, 5])\n",
      "(1, [5])\n",
      "(5, [4, 5, 4, 5, 11])\n",
      "(7, [4, 5, 4, 4, 4, 4, 4])\n",
      "(7, [4, 5, 4, 4, 4, 4, 5])\n",
      "(7, [4, 5, 4, 4, 4, 5, 11])\n",
      "(11, [4, 5, 4, 4, 4, 4, 5, 4, 4, 11, 5])\n",
      "(12, [4, 5, 4, 4, 4, 4, 5, 4, 4, 11, 5, 5])\n"
     ]
    }
   ],
   "source": [
    "# test code do not edit\n",
    "print(minDropsWithBudget_Solution(25, 10)) # must be 2, [4,5]\n",
    "print(minDropsWithBudget_Solution(25, 6)) # must be 1, [5]\n",
    "print(minDropsWithBudget_Solution(25, 30)) # must be 5, [4, 5, 4, 5, 11]\n",
    "print(minDropsWithBudget_Solution(16, 30)) # must be 7, [4, 5, 4, 4, 4, 4, 4]\n",
    "print(minDropsWithBudget_Solution(18, 31)) # must be 7, [4, 5, 4, 4, 4, 4, 5]\n",
    "print(minDropsWithBudget_Solution(22, 38)) # must be 7,  [4, 5, 4, 4, 4, 5, 11]\n",
    "print(minDropsWithBudget_Solution(32, 55)) # must be 11, [4, 5, 4, 4, 4, 4, 5, 4, 4, 11, 5]\n",
    "print(minDropsWithBudget_Solution(35, 60)) # must be 12, [4, 5, 4, 4, 4, 4, 5, 4, 4, 11, 5, 5]"
   ]
  }
 ],
 "metadata": {
  "kernelspec": {
   "display_name": "Python 3 (ipykernel)",
   "language": "python",
   "name": "python3"
  },
  "language_info": {
   "codemirror_mode": {
    "name": "ipython",
    "version": 3
   },
   "file_extension": ".py",
   "mimetype": "text/x-python",
   "name": "python",
   "nbconvert_exporter": "python",
   "pygments_lexer": "ipython3",
   "version": "3.9.13"
  }
 },
 "nbformat": 4,
 "nbformat_minor": 2
}
