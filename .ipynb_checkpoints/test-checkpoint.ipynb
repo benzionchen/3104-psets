{
 "cells": [
  {
   "cell_type": "code",
   "execution_count": 17,
   "id": "c5d92d07",
   "metadata": {},
   "outputs": [],
   "source": [
    "def best_bean_quality(A):\n",
    "    n = len(A)\n",
    "    \n",
    "    # compute array M\n",
    "    M = [0] * n\n",
    "    M[0] = B[0]  # minimum of the first day is just A[0] so set M[0] = A[0]\n",
    "\n",
    "    for i in range(1, n):\n",
    "        M[i] = min(M[i - 1], A[i])  # minimum value from day 0 to day i\n",
    "\n",
    "    # compute maximum bean quality using M\n",
    "    max_quality = 0  # assume quality is 0\n",
    "\n",
    "    for j in range(1, n):\n",
    "        max_quality = max(max_quality, A[j] - M[j - 1])  # calculate max quality in 1 forward pass\n",
    "\n",
    "    return max_quality"
   ]
  },
  {
   "cell_type": "code",
   "execution_count": 18,
   "id": "ce1a5e9a",
   "metadata": {},
   "outputs": [
    {
     "name": "stdout",
     "output_type": "stream",
     "text": [
      "16\n"
     ]
    }
   ],
   "source": [
    "# for example, if array A is what was listed in the example on page 2 of the problem set\n",
    "A = [8, 9, 3, 4, 14, 12, 15, 19, 7, 8, 12, 11]\n",
    "result = best_bean_quality(A)\n",
    "print(result)"
   ]
  },
  {
   "cell_type": "code",
   "execution_count": 19,
   "id": "e91e333b",
   "metadata": {},
   "outputs": [
    {
     "name": "stdout",
     "output_type": "stream",
     "text": [
      "12209\n"
     ]
    }
   ],
   "source": [
    "# try with array B\n",
    "A = [81, 19, 13, 42, 134, 1232, 1445, 12222, 74, 8421, 122, 111]\n",
    "result2 = best_bean_quality(A)\n",
    "print(result2)"
   ]
  },
  {
   "cell_type": "code",
   "execution_count": 25,
   "id": "5dbc121b",
   "metadata": {},
   "outputs": [
    {
     "name": "stdout",
     "output_type": "stream",
     "text": [
      "16\n"
     ]
    }
   ],
   "source": [
    "def bestBeanQuality(A):\n",
    "    n = len(A)                                                     # this is the same as above\n",
    "    min_so_far = A[0]                                              # track minimum value to the current day\n",
    "    max_difference_in_quality = 0                                  # max quality will be 0, use this as a counter later\n",
    "\n",
    "    for j in range(1, n):                                          # setup loop to iterate through the array starting from day 1\n",
    "        max_difference_in_quality = max(max_difference_in_quality, A[j] - min_so_far) # calculate quality of harvest on \n",
    "                                                                                      # day j + plant on the day with the lowest\n",
    "                                                                                      # score up until day j - 1\n",
    "        min_so_far = min(min_so_far, A[j])                         # then update that number as the minimum value up until day j\n",
    "    return max_difference_in_quality\n",
    "\n",
    "A = [8, 9, 3, 4, 14, 12, 15, 19, 7, 8, 12, 11]\n",
    "result = bestBeanQuality(A)\n",
    "print(result)"
   ]
  },
  {
   "cell_type": "code",
   "execution_count": 2,
   "id": "e48c944e",
   "metadata": {},
   "outputs": [
    {
     "ename": "SyntaxError",
     "evalue": "invalid syntax (1378085672.py, line 1)",
     "output_type": "error",
     "traceback": [
      "\u001b[1;36m  File \u001b[1;32m\"C:\\Users\\raiu\\AppData\\Local\\Temp\\ipykernel_7584\\1378085672.py\"\u001b[1;36m, line \u001b[1;32m1\u001b[0m\n\u001b[1;33m    function Quicksort(arr, low, high):\u001b[0m\n\u001b[1;37m             ^\u001b[0m\n\u001b[1;31mSyntaxError\u001b[0m\u001b[1;31m:\u001b[0m invalid syntax\n"
     ]
    }
   ],
   "source": [
    "function Quicksort(arr, low, high):\n",
    "    if low < high:\n",
    "        # heapify the array\n",
    "        heapify(arr)\n",
    "\n",
    "        # choose a leaf element as the pivot\n",
    "        pivot_index = chooseLeafElement(arr, low, high)\n",
    "        \n",
    "        # apply Lomuto's partitioning\n",
    "        pivot_index = LomutoPartition(arr, low, high, pivot_index)\n",
    "        \n",
    "        # recursively apply quicksort on the two partitions\n",
    "        MrEsQuicksort(arr, low, pivot_index - 1)\n",
    "        MrEsQuicksort(arr, pivot_index + 1, high)\n",
    "\n",
    "\n",
    "function heapify(arr):\n",
    "    # build a max heap for the entire array\n",
    "    for i from len(arr)//2 down to 1:\n",
    "        siftDown(arr, i)\n",
    "\n",
    "function chooseLeafElement(arr, low, high):\n",
    "    # randomly choose a leaf element from the second half of the array\n",
    "    # in a heap, leaf elements are found between index ⌈n/2⌉ to n\n",
    "    leaf_start = (high + 1) // 2\n",
    "    leaf_index = random(leaf_start, high)\n",
    "    return leaf_index\n",
    "\n",
    "function LomutoPartition(arr, low, high, pivot_index):\n",
    "    # lomuto partitioning: rearrange elements around the pivot\n",
    "    pivot = arr[pivot_index]\n",
    "    swap(arr, pivot_index, high)  # move pivot to the end\n",
    "    i = low\n",
    "    for j from low to high - 1:\n",
    "        if arr[j] < pivot:\n",
    "            swap(arr, i, j)\n",
    "            i = i + 1\n",
    "    swap(arr, i, high)  # put the pivot in its final position\n",
    "    return i  # return the pivot's final position\n",
    "\n",
    "\n",
    "function siftDown(arr, index):\n",
    "    # this is a helper function to maintain the heap property\n",
    "    # as part of the heapify operation\n",
    "    left = 2 * index\n",
    "    right = 2 * index + 1\n",
    "    largest = index\n",
    "    \n",
    "    if left <= len(arr) and arr[left] > arr[largest]:\n",
    "        largest = left\n",
    "    if right <= len(arr) and arr[right] > arr[largest]:\n",
    "        largest = right\n",
    "    if largest != index:\n",
    "        swap(arr, index, largest)\n",
    "        siftDown(arr, largest)\n",
    "\n",
    "function swap(arr, i, j):\n",
    "    temp = arr[i]\n",
    "    arr[i] = arr[j]\n",
    "    arr[j] = temp\n"
   ]
  },
  {
   "cell_type": "code",
   "execution_count": 1,
   "id": "a4dd1c3d",
   "metadata": {},
   "outputs": [],
   "source": [
    "def change(n, v, r):\n",
    "    d = [0] * r  # initialize histogram of coin counts with 0\n",
    "    while n > 0:\n",
    "        k = r\n",
    "        while k > 0 and v[k-1] > n:\n",
    "            k -= 1\n",
    "        if k == 0:\n",
    "            return 'no solution'\n",
    "        else:\n",
    "            n = n - v[k-1]  # use coin of denomination v[k-1]\n",
    "            d[k-1] += 1  # increment count of the coin\n",
    "    return d\n"
   ]
  },
  {
   "cell_type": "code",
   "execution_count": null,
   "id": "af35d982",
   "metadata": {},
   "outputs": [],
   "source": []
  }
 ],
 "metadata": {
  "kernelspec": {
   "display_name": "Python 3 (ipykernel)",
   "language": "python",
   "name": "python3"
  },
  "language_info": {
   "codemirror_mode": {
    "name": "ipython",
    "version": 3
   },
   "file_extension": ".py",
   "mimetype": "text/x-python",
   "name": "python",
   "nbconvert_exporter": "python",
   "pygments_lexer": "ipython3",
   "version": "3.9.13"
  }
 },
 "nbformat": 4,
 "nbformat_minor": 5
}
