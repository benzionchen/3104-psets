{
 "cells": [
  {
   "cell_type": "code",
   "execution_count": 17,
   "id": "c5d92d07",
   "metadata": {},
   "outputs": [],
   "source": [
    "def best_bean_quality(A):\n",
    "    n = len(A)\n",
    "    \n",
    "    # compute array M\n",
    "    M = [0] * n\n",
    "    M[0] = B[0]  # minimum of the first day is just A[0] so set M[0] = A[0]\n",
    "\n",
    "    for i in range(1, n):\n",
    "        M[i] = min(M[i - 1], A[i])  # minimum value from day 0 to day i\n",
    "\n",
    "    # compute maximum bean quality using M\n",
    "    max_quality = 0  # assume quality is 0\n",
    "\n",
    "    for j in range(1, n):\n",
    "        max_quality = max(max_quality, A[j] - M[j - 1])  # calculate max quality in 1 forward pass\n",
    "\n",
    "    return max_quality"
   ]
  },
  {
   "cell_type": "code",
   "execution_count": 18,
   "id": "ce1a5e9a",
   "metadata": {},
   "outputs": [
    {
     "name": "stdout",
     "output_type": "stream",
     "text": [
      "16\n"
     ]
    }
   ],
   "source": [
    "# for example, if array A is what was listed in the example on page 2 of the problem set\n",
    "A = [8, 9, 3, 4, 14, 12, 15, 19, 7, 8, 12, 11]\n",
    "result = best_bean_quality(A)\n",
    "print(result)"
   ]
  },
  {
   "cell_type": "code",
   "execution_count": 19,
   "id": "e91e333b",
   "metadata": {},
   "outputs": [
    {
     "name": "stdout",
     "output_type": "stream",
     "text": [
      "12209\n"
     ]
    }
   ],
   "source": [
    "# try with array B\n",
    "A = [81, 19, 13, 42, 134, 1232, 1445, 12222, 74, 8421, 122, 111]\n",
    "result2 = best_bean_quality(A)\n",
    "print(result2)"
   ]
  },
  {
   "cell_type": "code",
   "execution_count": 25,
   "id": "5dbc121b",
   "metadata": {},
   "outputs": [
    {
     "name": "stdout",
     "output_type": "stream",
     "text": [
      "16\n"
     ]
    }
   ],
   "source": [
    "def bestBeanQuality(A):\n",
    "    n = len(A)                                                     # this is the same as above\n",
    "    min_so_far = A[0]                                              # track minimum value to the current day\n",
    "    max_difference_in_quality = 0                                  # max quality will be 0, use this as a counter later\n",
    "\n",
    "    for j in range(1, n):                                          # setup loop to iterate through the array starting from day 1\n",
    "        max_difference_in_quality = max(max_difference_in_quality, A[j] - min_so_far) # calculate quality of harvest on \n",
    "                                                                                      # day j + plant on the day with the lowest\n",
    "                                                                                      # score up until day j - 1\n",
    "        min_so_far = min(min_so_far, A[j])                         # then update that number as the minimum value up until day j\n",
    "    return max_difference_in_quality\n",
    "\n",
    "A = [8, 9, 3, 4, 14, 12, 15, 19, 7, 8, 12, 11]\n",
    "result = bestBeanQuality(A)\n",
    "print(result)"
   ]
  },
  {
   "cell_type": "code",
   "execution_count": null,
   "id": "e48c944e",
   "metadata": {},
   "outputs": [],
   "source": []
  }
 ],
 "metadata": {
  "kernelspec": {
   "display_name": "Python 3 (ipykernel)",
   "language": "python",
   "name": "python3"
  },
  "language_info": {
   "codemirror_mode": {
    "name": "ipython",
    "version": 3
   },
   "file_extension": ".py",
   "mimetype": "text/x-python",
   "name": "python",
   "nbconvert_exporter": "python",
   "pygments_lexer": "ipython3",
   "version": "3.9.13"
  }
 },
 "nbformat": 4,
 "nbformat_minor": 5
}
