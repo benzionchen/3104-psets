{
 "cells": [
  {
   "cell_type": "markdown",
   "metadata": {},
   "source": [
    "# CSPB-3104 Programming Assignment 9\n",
    "\n"
   ]
  },
  {
   "cell_type": "markdown",
   "metadata": {},
   "source": [
    "1) (5 points) Implement Kruskal's algorithm \n",
    "\n",
    "Input: An edge list with weights: [(0,1,1), (0,2,2),(1,2,1)]  \n",
    "Output: A minimum spanning tree in the form of an edge list with weights: [(0, 1, 1), (1, 2, 1)] \n",
    "\n",
    "Note: Edge lists are lists of triples (i, j, w), with i < j, which represents an edge between nodes i and j with weight w.  Edges are undirected in this notebook, and you should always return edges in the form (i, j, w), where i < j. Make sure to sort your final edge list in natural order, ie (0, 2, 1) before (1,2,1), (0,1,0) before (0,2,0).\n",
    "\n",
    "Hint: Look into Python's Set class\n"
   ]
  },
  {
   "cell_type": "code",
   "execution_count": null,
   "metadata": {},
   "outputs": [],
   "source": [
    "class UnionFind:\n",
    "    def __init__(self, n):\n",
    "        self.parent = list(range(n))  # each node is its own parent initially\n",
    "        self.rank = [0] * n           # rank to keep the trees flat\n",
    "\n",
    "    def find(self, u):\n",
    "        if self.parent[u] != u:\n",
    "            self.parent[u] = self.find(self.parent[u])  # path compression\n",
    "        return self.parent[u]\n",
    "\n",
    "    def union(self, u, v):\n",
    "        root_u = self.find(u)\n",
    "        root_v = self.find(v)\n",
    "        \n",
    "        if root_u != root_v:\n",
    "            # union by rank to keep the tree balanced\n",
    "            if self.rank[root_u] > self.rank[root_v]:\n",
    "                self.parent[root_v] = root_u\n",
    "            elif self.rank[root_u] < self.rank[root_v]:\n",
    "                self.parent[root_u] = root_v\n",
    "            else:\n",
    "                self.parent[root_v] = root_u\n",
    "                self.rank[root_u] += 1"
   ]
  },
  {
   "cell_type": "code",
   "execution_count": 7,
   "metadata": {},
   "outputs": [],
   "source": [
    "def kruskal(edge_list):\n",
    "    # sort the edges by weight in ascending order\n",
    "    edge_list.sort(key=lambda x: x[2])\n",
    "    \n",
    "    # initialize Union-Find for cycle detection\n",
    "    # find the number of nodes by finding the maximum node index\n",
    "    nodes = set()\n",
    "    for edge in edge_list:\n",
    "        nodes.add(edge[0])\n",
    "        nodes.add(edge[1])\n",
    "    uf = UnionFind(len(nodes))\n",
    "    \n",
    "    mst_edges = []  # list to store the edges of the MST\n",
    "    \n",
    "    # iterate over the sorted edges and build the MST\n",
    "    for u, v, w in edge_list:\n",
    "        # ensure edges are in the form (i, j) where i < j\n",
    "        if u > v:\n",
    "            u, v = v, u\n",
    "            \n",
    "        # only add the edge if it doesn't form a cycle\n",
    "        if uf.find(u) != uf.find(v):\n",
    "            uf.union(u, v)\n",
    "            mst_edges.append((u, v, w))\n",
    "            \n",
    "            # stop if added enough edges for an MST\n",
    "            if len(mst_edges) == len(nodes) - 1:\n",
    "                break\n",
    "    \n",
    "    # sort the final MST edges as specified\n",
    "    mst_edges.sort()\n",
    "    return mst_edges\n"
   ]
  },
  {
   "cell_type": "markdown",
   "metadata": {},
   "source": [
    "2. (5 points) Implement Prim's algorithm\n",
    "\n",
    "Input: An edge list with weights: [(0,1,1), (0,2,2),(1,2,1)]  \n",
    "Output: A minimum spanning tree in the form of an edge list with weights: [(0, 1, 1), (1, 2, 1)] \n",
    "\n",
    "Note: Edge lists are lists of triples (i, j, w), with i < j, which represents an edge between nodes i and j with weight w.  Edges are undirected in this notebook, and you should always return edges in the form (i, j, w), where i < j. Make sure to sort your final edge list in natural order, ie (0, 2, 1) before (1,2,1), (0,1,0) before (0,2,0).\n",
    "\n",
    "Hint: You can use heapq for the priority queue."
   ]
  },
  {
   "cell_type": "code",
   "execution_count": 8,
   "metadata": {},
   "outputs": [],
   "source": [
    "import heapq\n",
    "\n",
    "def prim(edge_list):\n",
    "    # convert the edge list into an adjacency list\n",
    "    graph = {}\n",
    "    for u, v, w in edge_list:\n",
    "        if u not in graph:\n",
    "            graph[u] = []\n",
    "        if v not in graph:\n",
    "            graph[v] = []\n",
    "        graph[u].append((w, v))\n",
    "        graph[v].append((w, u))\n",
    "\n",
    "    # arbitrarily choose a starting node (node 0 in this case)\n",
    "    start_node = 0\n",
    "    mst_edges = []  # resulting MST edges\n",
    "    visited = set()  # track visited nodes\n",
    "\n",
    "    # priority queue (min-heap) for edges, initialized with the edges from start_node\n",
    "    min_heap = []\n",
    "    visited.add(start_node)\n",
    "\n",
    "    # add all edges from the start node to the heap\n",
    "    for edge in graph[start_node]:\n",
    "        weight, neighbor = edge\n",
    "        heapq.heappush(min_heap, (weight, start_node, neighbor))\n",
    "\n",
    "    # if haven't visited all nodes, keep adding edges to the MST\n",
    "    while min_heap and len(visited) < len(graph):\n",
    "        weight, u, v = heapq.heappop(min_heap)\n",
    "        \n",
    "        # skip if the node is already in the MST\n",
    "        if v in visited:\n",
    "            continue\n",
    "\n",
    "        # add the edge to the MST\n",
    "        mst_edges.append((u, v, weight))\n",
    "        visited.add(v)\n",
    "\n",
    "        # add all edges from the newly added node to the heap\n",
    "        for edge in graph[v]:\n",
    "            next_weight, neighbor = edge\n",
    "            if neighbor not in visited:\n",
    "                heapq.heappush(min_heap, (next_weight, v, neighbor))\n",
    "\n",
    "    # sort the edges in the MST as specified (i < j lexicographically)\n",
    "    mst_edges = [(min(u, v), max(u, v), w) for u, v, w in mst_edges]\n",
    "    mst_edges.sort()\n",
    "    \n",
    "    return mst_edges\n"
   ]
  },
  {
   "cell_type": "markdown",
   "metadata": {},
   "source": [
    "3) (15 points)  Finding the most likely mutation tree\n",
    "\n",
    "You're given a list of bacteria RNA fragments, all from related bacteria which have mutated into separate strains over time.  Your goal is to come up with the most likely sequence of mutations that led to this state of affairs.  \n",
    "\n",
    "The chance that one bacteria mutated into another depends on the number of differences in their RNA strings. \n",
    "The more differences in their RNA strings, the more unlikely it is that the bacteria mutated into each other.  (In fact, exponentially more unlikely -- the probability that k locations changed at the same time is $2^{-k}$).\n",
    "\n",
    "If we construct a fully connected graph whose nodes represent RNA fragments and each edge has weight $2^{-k}$, where k is the number of differences between RNA strings, then a spanning tree which *maximizes* the *product* of edge weights will be the __most likely mutation tree__.  (Each mututation is assumed to be independent, so the chance that all the mutations in the spanning tree happen is the product of their respective probabilities)\n",
    "\n",
    "Write a function that takes a list of RNA fragments, constructs an edge list with weights, then returns the most likely mutation tree, along with its probability.  \n",
    "\n",
    "Note: your algorithm should construct a graph and then run your implementation of Kruskal's algorithm on it.  The difficulty lies in determining the correct graph, so that a minimum sum spanning tree in your graph corresponds to a maximum product spanning tree in the graph described above.\n",
    "\n",
    "Input: [\"adad\",\"adac\",\"acad\", \"cdac\",\"addd\"]  \n",
    "Output: ([('adad', 'adac', 0.5),\n",
    "  ('adad', 'acad', 0.5),\n",
    "  ('adad', 'addd', 0.5),\n",
    "  ('adac', 'cdac', 0.5)],\n",
    " 0.0625)"
   ]
  },
  {
   "cell_type": "code",
   "execution_count": 9,
   "metadata": {},
   "outputs": [],
   "source": [
    "# Given a list of RNA fragments, returns a spanning tree which maximizes the probability of mutation\n",
    "\n",
    "import math\n",
    "from itertools import combinations\n",
    "\n",
    "# helper function to calculate Hamming distance\n",
    "def hamming_distance(s1, s2):\n",
    "    return sum(c1 != c2 for c1, c2 in zip(s1, s2)) # counts number of differing characters between two strings of equal len\n",
    "\n",
    "# kruskal's algo using Union-Find\n",
    "class UnionFind:\n",
    "    def __init__(self, n):\n",
    "        self.parent = list(range(n))\n",
    "        self.rank = [0] * n\n",
    "    \n",
    "    def find(self, u):\n",
    "        if self.parent[u] != u:\n",
    "            self.parent[u] = self.find(self.parent[u])  # path compression\n",
    "        return self.parent[u]\n",
    "    \n",
    "    def union(self, u, v):\n",
    "        root_u = self.find(u)\n",
    "        root_v = self.find(v)\n",
    "        \n",
    "        if root_u != root_v:\n",
    "            # union by rank to keep the tree balanced\n",
    "            if self.rank[root_u] > self.rank[root_v]:\n",
    "                self.parent[root_v] = root_u\n",
    "            elif self.rank[root_u] < self.rank[root_v]:\n",
    "                self.parent[root_u] = root_v\n",
    "            else:\n",
    "                self.parent[root_v] = root_u\n",
    "                self.rank[root_u] += 1\n",
    "\n",
    "# mutation tree function\n",
    "def mutation_tree(rna_fragments):\n",
    "    n = len(rna_fragments)\n",
    "    edges = []\n",
    "    \n",
    "    # construct the edge list with transformed weights\n",
    "    for (i, frag1), (j, frag2) in combinations(enumerate(rna_fragments), 2):\n",
    "        k = hamming_distance(frag1, frag2)\n",
    "        weight = 2 ** -k  # probability weight\n",
    "        edges.append((k, i, j, weight))  # using Hamming distance k as transformed weight\n",
    "    \n",
    "    # sort edges by the hamming distance for kruskal's algo (minimizing k)\n",
    "    edges.sort()\n",
    "\n",
    "    # initialize UF and the MST\n",
    "    uf = UnionFind(n)\n",
    "    mst_edges = []\n",
    "    mst_probability = 1.0\n",
    "\n",
    "    # run Kruskal's algo, construct the MST\n",
    "    for k, i, j, prob in edges:\n",
    "        if uf.find(i) != uf.find(j):\n",
    "            uf.union(i, j)\n",
    "            mst_edges.append((rna_fragments[i], rna_fragments[j], prob))\n",
    "            mst_probability *= prob  # multiply the original probability\n",
    "\n",
    "            # stop if added enough edges for an MST\n",
    "            if len(mst_edges) == n - 1:\n",
    "                break\n",
    "\n",
    "    return mst_edges, mst_probability\n"
   ]
  },
  {
   "cell_type": "markdown",
   "metadata": {},
   "source": [
    "Testing below\n",
    "\n",
    "----"
   ]
  },
  {
   "cell_type": "code",
   "execution_count": 10,
   "metadata": {},
   "outputs": [
    {
     "data": {
      "text/html": [
       "<font color=\"green\"> All tests succeeded! </font>"
      ],
      "text/plain": [
       "<IPython.core.display.HTML object>"
      ]
     },
     "metadata": {},
     "output_type": "display_data"
    }
   ],
   "source": [
    "## DO NOT EDIT TESTING CODE FOR YOUR ANSWER ABOVE\n",
    "# Press shift enter to test your code. Ensure that your code has been saved first by pressing shift+enter on the previous cell.\n",
    "from IPython.core.display import display, HTML\n",
    "def kruskal_test():\n",
    "    failed = False\n",
    "    test_cases = [ \n",
    "        ([(0,1,1), (0,2,2),(1,2,1)], [(0, 1, 1), (1, 2, 1)]),\n",
    "        ([(0,1,2), (0,4,1), (1,2,1), (1,4,2), (2,3,1), (3,4,1)], \n",
    "         [(0, 4, 1), (1, 2, 1), (2, 3, 1), (3, 4, 1)]),\n",
    "        ([(0,1,1), (0,2,2), (0,3,1), (1,4,1), (1,5,2), (2,4,2), \n",
    "          (2,6,2), (3,5,2), (3,6,1), (4,7,2), (5,7,2), (6,7,1)], \n",
    "          [(0, 1, 1), (0, 2, 2), (0, 3, 1), (1, 4, 1), (1, 5, 2), (3, 6, 1), (6, 7, 1)]),\n",
    "        ([(0,1,2), (0,2,2), (0,3,1), (1,4,1), (1,5,1), (2,4,2), \n",
    "          (2,6,1), (3,5,2), (3,6,2), (4,7,2), (5,7,2), (6,7,1)], \n",
    "         [(0, 1, 2), (0, 2, 2), (0, 3, 1), (1, 4, 1), (1, 5, 1), (2, 6, 1), (6, 7, 1)]) \n",
    "    ]\n",
    "    for (test_graph, solution) in test_cases:\n",
    "        output = kruskal(test_graph)\n",
    "        if (solution != output):\n",
    "            s1 = '<font color=\\\"red\\\"> Failed - test case: Inputs: graph =' + str(test_graph) + \"<br>\"\n",
    "            s2 = '  <b> Expected Output: </b> ' + str(solution) + ' Your code output: ' + str(output)+ \"<br>\"\n",
    "            display(HTML(s1+s2))\n",
    "            failed = True\n",
    "            \n",
    "    if failed:\n",
    "        display(HTML('<font color=\"red\"> One or more tests failed. </font>'))\n",
    "    else:\n",
    "        display(HTML('<font color=\"green\"> All tests succeeded! </font>'))\n",
    "kruskal_test()"
   ]
  },
  {
   "cell_type": "code",
   "execution_count": 11,
   "metadata": {},
   "outputs": [
    {
     "data": {
      "text/html": [
       "<font color=\"green\"> All tests succeeded! </font>"
      ],
      "text/plain": [
       "<IPython.core.display.HTML object>"
      ]
     },
     "metadata": {},
     "output_type": "display_data"
    }
   ],
   "source": [
    "## DO NOT EDIT TESTING CODE FOR YOUR ANSWER ABOVE\n",
    "# Press shift enter to test your code. Ensure that your code has been saved first by pressing shift+enter on the previous cell.\n",
    "from IPython.core.display import display, HTML\n",
    "def prim_test():\n",
    "    failed = False\n",
    "    test_cases = [ \n",
    "        ([(0,1,1), (0,2,2),(1,2,1)], [(0, 1, 1), (1, 2, 1)]),\n",
    "        ([(0,1,2), (0,4,1), (1,2,1), (1,4,2), (2,3,1), (3,4,1)], \n",
    "         [(0, 4, 1), (1, 2, 1), (2, 3, 1), (3, 4, 1)]),\n",
    "        ([(0,1,1), (0,2,2), (0,3,1), (1,4,1), (1,5,2), (2,4,2), \n",
    "          (2,6,2), (3,5,2), (3,6,1), (4,7,2), (5,7,2), (6,7,1)], \n",
    "          [(0, 1, 1), (0, 2, 2), (0, 3, 1), (1, 4, 1), (1, 5, 2), (3, 6, 1), (6, 7, 1)]),\n",
    "        ([(0,1,2), (0,2,2), (0,3,1), (1,4,1), (1,5,1), (2,4,2), \n",
    "          (2,6,1), (3,5,2), (3,6,2), (4,7,2), (5,7,2), (6,7,1)], \n",
    "         [(0, 1, 2), (0, 2, 2), (0, 3, 1), (1, 4, 1), (1, 5, 1), (2, 6, 1), (6, 7, 1)]) \n",
    "    ]\n",
    "    for (test_graph, solution) in test_cases:\n",
    "        output = prim(test_graph)\n",
    "        if (solution != output):\n",
    "            s1 = '<font color=\\\"red\\\"> Failed - test case: Inputs: graph =' + str(test_graph) + \"<br>\"\n",
    "            s2 = '  <b> Expected Output: </b> ' + str(solution) + ' Your code output: ' + str(output)+ \"<br>\"\n",
    "            display(HTML(s1+s2))\n",
    "            failed = True\n",
    "            \n",
    "    if failed:\n",
    "        display(HTML('<font color=\"red\"> One or more tests failed. </font>'))\n",
    "    else:\n",
    "        display(HTML('<font color=\"green\"> All tests succeeded! </font>'))\n",
    "prim_test()"
   ]
  },
  {
   "cell_type": "code",
   "execution_count": 12,
   "metadata": {},
   "outputs": [
    {
     "data": {
      "text/html": [
       "<font color=\"green\"> All tests succeeded! </font>"
      ],
      "text/plain": [
       "<IPython.core.display.HTML object>"
      ]
     },
     "metadata": {},
     "output_type": "display_data"
    }
   ],
   "source": [
    "## DO NOT EDIT TESTING CODE FOR YOUR ANSWER ABOVE\n",
    "# Press shift enter to test your code. Ensure that your code has been saved first by pressing shift+enter on the previous cell.\n",
    "from IPython.core.display import display, HTML\n",
    "def mutation_test():\n",
    "    failed = False\n",
    "    test_cases = [ \n",
    "        ([\"TAT\", \"CAT\", \"CAC\"],([('TAT', 'CAT', 0.5), ('CAT', 'CAC', 0.5)], 0.25)),\n",
    "        ([\"ACATA\", \"ATCTA\", \"GTCTA\", \"GTATA\", \"GCATA\"], \n",
    "        ([('ACATA', 'GCATA', 0.5), ('ATCTA', 'GTCTA', 0.5), ('GTCTA', 'GTATA', 0.5), ('GTATA', 'GCATA', 0.5)], 0.0625)),\n",
    "        ([\"GATTACA\", \"CGACTCA\", \"CATTACA\", \"CGACATA\", \"CGTTACA\", \"CGACACA\", \"CATTACG\", \"CGATACA\"], \n",
    "         ([('GATTACA', 'CATTACA', 0.5), ('CGACTCA', 'CGACACA', 0.5), ('CATTACA', 'CGTTACA', 0.5), \n",
    "           ('CATTACA', 'CATTACG', 0.5), ('CGACATA', 'CGACACA', 0.5), ('CGTTACA', 'CGATACA', 0.5), ('CGACACA', 'CGATACA', 0.5)], 0.0078125)),\n",
    "        ([\"CATTACA\", \"GATTACA\", \"CTTTACA\", \"CTGGTGA\", \"CTGTACA\", \"CTGGTCA\", \"CTGGTGC\", \"CTGGACA\"], \n",
    "        ([('CATTACA', 'GATTACA', 0.5), ('CATTACA', 'CTTTACA', 0.5), ('CTTTACA', 'CTGTACA', 0.5), \n",
    "          ('CTGGTGA', 'CTGGTCA', 0.5), ('CTGGTGA', 'CTGGTGC', 0.5), ('CTGTACA', 'CTGGACA', 0.5), ('CTGGTCA', 'CTGGACA', 0.5)], 0.0078125))\n",
    "    ]\n",
    "    for (test_graph, solution) in test_cases:\n",
    "        output = mutation_tree(test_graph)\n",
    "        if (solution != output):\n",
    "            s1 = '<font color=\\\"red\\\"> Failed - test case: Inputs: graph =' + str(test_graph) + \"<br>\"\n",
    "            s2 = '  <b> Expected Output: </b> ' + str(solution) + ' Your code output: ' + str(output)+ \"<br>\"\n",
    "            display(HTML(s1+s2))\n",
    "            failed = True\n",
    "            \n",
    "    if failed:\n",
    "        display(HTML('<font color=\"red\"> One or more tests failed. </font>'))\n",
    "    else:\n",
    "        display(HTML('<font color=\"green\"> All tests succeeded! </font>'))\n",
    "mutation_test()"
   ]
  },
  {
   "cell_type": "code",
   "execution_count": null,
   "metadata": {},
   "outputs": [],
   "source": []
  },
  {
   "cell_type": "code",
   "execution_count": null,
   "metadata": {},
   "outputs": [],
   "source": []
  },
  {
   "cell_type": "code",
   "execution_count": null,
   "metadata": {},
   "outputs": [],
   "source": []
  }
 ],
 "metadata": {
  "kernelspec": {
   "display_name": "Python 3 (ipykernel)",
   "language": "python",
   "name": "python3"
  },
  "language_info": {
   "codemirror_mode": {
    "name": "ipython",
    "version": 3
   },
   "file_extension": ".py",
   "mimetype": "text/x-python",
   "name": "python",
   "nbconvert_exporter": "python",
   "pygments_lexer": "ipython3",
   "version": "3.9.13"
  }
 },
 "nbformat": 4,
 "nbformat_minor": 2
}
