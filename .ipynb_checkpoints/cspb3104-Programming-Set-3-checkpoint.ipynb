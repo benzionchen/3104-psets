{
 "cells": [
  {
   "cell_type": "markdown",
   "metadata": {},
   "source": [
    "# CSPB-3104 Programming Assignment 3\n",
    "\n"
   ]
  },
  {
   "cell_type": "markdown",
   "metadata": {},
   "source": [
    "1) (10 points) Implement quicksort\n",
    "\n",
    "Your function must sort the array in place, and return the number of direct comparisons (is a[i]  < a[j]?) made."
   ]
  },
  {
   "cell_type": "code",
   "execution_count": 1,
   "metadata": {},
   "outputs": [],
   "source": [
    "def quicksort(a): # a will be our array sorted in place \n",
    "    # partition the array \n",
    "    def partition(low, high, comparison_count): # low == starting index of sub array, high = ending index of subarray \n",
    "        # comparison count has to be a mutable list to keep track of # of comparisons \n",
    "        # if comparison count is not a list, when we execute comparison_count += 1 later, it will create a new local variable that \n",
    "        # shadows outside variable , and don't change comparison_count defined in the outer scope, so even after all the recursive\n",
    "        # calls, comparison_count will still be 0 since only the local variables have been updated\n",
    "        \n",
    "        pivot = a[high] # choose last element in the array as the pivot point\n",
    "        # this call is going to be a[8] = 8, and make j iterate through 0 -> 7\n",
    "        i = low - 1 # index\n",
    "        \n",
    "        # iterate through the subarray to rearrange elements\n",
    "        for j in range(low, high): # use same low high from earlier\n",
    "            comparison_count[0] += 1 # count the comparisons for values that a[j] are less tahn the pivot \n",
    "            if a[j] < pivot: # if a[j] less than pivot, then increment index of the smaller elements \n",
    "                i += 1\n",
    "                a[i], a[j] = a[j], a[i] # and swap the elements \n",
    "        \n",
    "        # now put the pivot in the right place, swapping it front of region 2\n",
    "        a[i+1], a[high] = a[high], a[i+1]\n",
    "        \n",
    "        return i+1 #return position \n",
    "    \n",
    "    # helper function for quicksort recursively calling itself \n",
    "    def recursion_helper(low, high, comparison_count): \n",
    "        if low < high: # checking for the base case (if the low is not less than high, we should exit)\n",
    "            pivot_index = partition(low, high, comparison_count) # assign pivot index (the i+1 from above) to pivot_index var\n",
    "            recursion_helper(low, pivot_index - 1, comparison_count) # recursion for sorting region 1 and 2 \n",
    "            recursion_helper(pivot_index + 1, high, comparison_count)\n",
    "            \n",
    "    comparison_count = [0] # initialize counter for comparisons and this needs to be a list \n",
    "    recursion_helper(0, len(a) - 1, comparison_count) # recursively quickosrt \n",
    "    \n",
    "    return comparison_count[0] \n",
    "\n",
    "    raise NotImplementedError "
   ]
  },
  {
   "cell_type": "markdown",
   "metadata": {},
   "source": [
    "Notes for review (how the data is travelling):\n",
    "\n",
    "example array: [3, 1, 4, 6, 2, 5, 9, 7, 8]\n",
    "\n",
    "initial call:\n",
    "- quicksort_recursive(0, 8, comparison_count)\n",
    "    - low = 0, high = 8, comparison_count = [0]\n",
    "\n",
    "first partition call: \n",
    "- partition(0, 8, comparison_count):\n",
    "    - pivot chosen: a[8] = 8\n",
    "    - partitioning:\n",
    "        - iterate through the array with j from 0 to 7\n",
    "        - make comparison: a[0] < 8, a[1] < 8, ..., a[7] < 8\n",
    "        - swap elements less than pivot to the left\n",
    "        - looks like [3, 1, 4, 6, 2, 5, 7, 8, 9], with pivot 8 at index 7\n",
    "\n",
    "    - returns: pivot index = 7, comparison_count = [8]\n",
    "    \n",
    "recursive calls after first partition:\n",
    "   - left subarray (region 1): quicksort_recursive(0, 6, comparison_count):\n",
    "        - low = 0, high = 6\n",
    "   - right subarray (region 2): quicksort_recursive(8, 8, comparison_count):\n",
    "        - low = 8, high = 8 (Base case: no action taken)\n",
    "        \n",
    "second partition call for left subarray:\n",
    "- partition(0, 6, comparison_count):\n",
    "    - pivot chosen: a[6] = 7\n",
    "    - partitioning:\n",
    "        - iterate  through j from 0 to 5\n",
    "        - make comparisons and swaps\n",
    "        - looks like [3, 1, 4, 6, 2, 5, 7, 8, 9], with pivot 7 at index 6\n",
    "    - returns: pivot index = 6, comparison_count = [14]\n",
    "\n",
    "continue recursive calls for smaller subarrays:\n",
    "- recursively, partitioning smaller and smaller subarrays until each subarray has one or zero elements\n",
    "\n",
    "wrapping it up:\n",
    "- when all recursive calls are finished, the array is fully sorted in place: [1, 2, 3, 4, 5, 6, 7, 8, 9].\n",
    "- the total number of comparisons is stored in comparison_count[0]\n"
   ]
  },
  {
   "cell_type": "markdown",
   "metadata": {},
   "source": [
    "2) (15 points) Quickselect with Median-of-7-Medians\n",
    "\n",
    "You must implement quickselect with m-o-7-m.  \n",
    "\n",
    "Recall quickselect(a, j) will find the jth largest element in the list a.  (So quickselect(a, n//2) will be the median of the list a, where length(a) == n.  j starts counting from 1, \n",
    "so quickselect(a, 1) is the largest element of the list).\n",
    "Using the median-o-7-m trick goes like this:\n",
    "\n",
    "On a call to quickselect(a,j):\n",
    "1. First, split a into n//7 lists of length 7 and sort them.\n",
    "2. Next, make a list of their medians (the middle element of each list)\n",
    "3. Next, use quickselect on this list of medians to find *its* median,\n",
    "4. Partition the original list using this median as pivot\n",
    "5. recurse quickselect on the side containing the sought for element.\n"
   ]
  },
  {
   "cell_type": "code",
   "execution_count": 2,
   "metadata": {},
   "outputs": [],
   "source": [
    "def quickselect(a, j): # a will be our array, j is the largest element, and earliest in the array (descending)\n",
    "    \n",
    "    # helper function where input array around a given pivot number\n",
    "    def partition(arr, pivot):\n",
    "        left = [x for x in arr if x > pivot] # create a new array conntaining all elements of array that are greater than pivot\n",
    "        # the goal is to find the j-th largest element \n",
    "        right = [x for x in arr if x < pivot] # created array of elements less than pivot\n",
    "        pivot_count = len(arr) - len(left) - len(right) # calculates number of elements in arr = to the pivot (cover edge cases)\n",
    "        \n",
    "        return left, right, pivot_count # returns 3 values, elements greater & less than pivot, and count of elements = pivot\n",
    "    \n",
    "    def median_of_sevens(arr): # supposed to find the median of medians \n",
    "        groups = [sorted(arr[i:i+7]) for i in range(0, len(arr), 7)] # splits the arr into sublists of length 7\n",
    "        # each 7-length chunk is sorted and then are stored in groups, sorting makes finding median easier \n",
    "        medians = [group[len(group)//2] for group in groups] \n",
    "        # makes a list of medians containing middle element of each sorted group in groups \n",
    "        # this list is used to find the median of medians \n",
    "        \n",
    "        return quickselect(medians, len(medians)//2 + 1) # recursively find the median of the \"medians\"-list where the length\n",
    "        # of the len(medians)//2 +1 is the median's position - finding the pivot for quickselect algorithm that is optimizing \n",
    "        # for problem size \n",
    "    \n",
    "    if len(a) == 1: \n",
    "        # if input list has 1 element, this means the recursive function reached its base case and should exit \n",
    "        return a[0]\n",
    "    \n",
    "    pivot = median_of_sevens(a)\n",
    "    # assign median function to a variable and pass that as an argument, calls the function to find the best pivot for median\n",
    "    # of 7 medians, and this also guarantees the pivot is chosen from balanced partitions (avoiding worst-case scenarios)\n",
    "    \n",
    "    left, right, pivot_count = partition(a, pivot) # partition list a around the pivot nubmer, pivot_count is num of elements = \n",
    "    # pivot still, divides the list into parts for more recursion basically \n",
    "    \n",
    "    if j <= len(left): # check jth largest element is on the left of partition, if it is, recursion quickselect on the left side \n",
    "        return quickselect(left, j) # this is the recursion part \n",
    "    \n",
    "    elif j <= len(left) + pivot_count: # if the jth largest element equal to pivot, return the pivot since the desired element is \n",
    "        # one of the pivot elements\n",
    "        return pivot # returns the j-th largest element because j falls within range of pivot elements \n",
    "    \n",
    "    else:\n",
    "        # catch all cases where j-th largest element is on the right side of partition \n",
    "        return quickselect(right, j - len(left) - pivot_count) # recursively call quickselect on the right partition for j-th \n",
    "        # largest element, adjusting j to account for # of elements on the left partition = to the pivot number \n",
    "    \n",
    "    raise NotImplementedError\n"
   ]
  },
  {
   "cell_type": "markdown",
   "metadata": {},
   "source": [
    "Testing below\n",
    "\n",
    "----"
   ]
  },
  {
   "cell_type": "code",
   "execution_count": 3,
   "metadata": {},
   "outputs": [
    {
     "data": {
      "text/html": [
       "<font color=\"green\"> All tests succeeded! </font>"
      ],
      "text/plain": [
       "<IPython.core.display.HTML object>"
      ]
     },
     "metadata": {},
     "output_type": "display_data"
    }
   ],
   "source": [
    "## DO NOT EDIT TESTING CODE FOR YOUR ANSWER ABOVE\n",
    "# Press shift enter to test your code. Ensure that your code has been saved first by pressing shift+enter on the previous cell.\n",
    "from IPython.core.display import display, HTML\n",
    "def quicksort_test():\n",
    "    failed = False\n",
    "    test_cases = [ \n",
    "        [9, 8, 7, 6, 5, 4, 3, 2, 1, 0],\n",
    "        [0, 1, 2, 3, 4, 5, 6, 7, 8, 9],\n",
    "        [0, 0, 0, 0, 0, 0, -1],\n",
    "        [10, -10, 9, -9, 8, -8, 7, -7]\n",
    "    ]\n",
    "    for test_array in test_cases:\n",
    "        original = test_array.copy()\n",
    "        expected_output = sorted(test_array)\n",
    "        compare_count = quicksort(test_array)\n",
    "        if (test_array != expected_output):\n",
    "            s1 = '<font color=\\\"red\\\"> Failed - test case: Inputs: a=' + str(original) + \"<br>\"\n",
    "            s2 = '  <b> Expected Output: </b> ' + str(expected_output) + ' Your code output: ' + str(test_array)+ \"<br>\"\n",
    "            display(HTML(s1+s2))\n",
    "            failed = True\n",
    "            \n",
    "    if failed:\n",
    "        display(HTML('<font color=\"red\"> One or more tests failed. </font>'))\n",
    "    else:\n",
    "        display(HTML('<font color=\"green\"> All tests succeeded! </font>'))\n",
    "quicksort_test()"
   ]
  },
  {
   "cell_type": "code",
   "execution_count": 4,
   "metadata": {},
   "outputs": [
    {
     "data": {
      "text/html": [
       "<font color=\"green\"> All tests succeeded! </font>"
      ],
      "text/plain": [
       "<IPython.core.display.HTML object>"
      ]
     },
     "metadata": {},
     "output_type": "display_data"
    }
   ],
   "source": [
    "def quickselect_test():\n",
    "    failed = False\n",
    "    test_cases = [ \n",
    "        ([9, 8, 7, 6, 5, 4, 3, 2, 1, 0], 2, 8) ,\n",
    "        ([0, 1, 2, 3, 4, 5, 6, 7, 8, 9], 10, 0),\n",
    "        ([0, 0, 0, 0, 0, 0, -1], 1, 0),\n",
    "        ([10, -10, 9, -9, 8, -8, 7, -7], 5, -7)\n",
    "    ]\n",
    "    for (test_array, j, expected_output) in test_cases:\n",
    "        output =  quickselect(test_array, j)\n",
    "        if (output != expected_output):\n",
    "            s1 = '<font color=\\\"red\\\"> Failed - test case: Inputs: a=' + str(test_array) + ' j = ' + str(j) +\"<br>\"\n",
    "            s2 = '  <b> Expected Output: </b> ' + str(expected_output) + ' Your code output: ' + str(output)+ \"<br>\"\n",
    "            display(HTML(s1+s2))\n",
    "            failed = True\n",
    "            \n",
    "    if failed:\n",
    "        display(HTML('<font color=\"red\"> One or more tests failed. </font>'))\n",
    "    else:\n",
    "        display(HTML('<font color=\"green\"> All tests succeeded! </font>'))\n",
    "quickselect_test()"
   ]
  },
  {
   "cell_type": "code",
   "execution_count": null,
   "metadata": {},
   "outputs": [],
   "source": []
  }
 ],
 "metadata": {
  "kernelspec": {
   "display_name": "Python 3 (ipykernel)",
   "language": "python",
   "name": "python3"
  },
  "language_info": {
   "codemirror_mode": {
    "name": "ipython",
    "version": 3
   },
   "file_extension": ".py",
   "mimetype": "text/x-python",
   "name": "python",
   "nbconvert_exporter": "python",
   "pygments_lexer": "ipython3",
   "version": "3.9.13"
  }
 },
 "nbformat": 4,
 "nbformat_minor": 2
}
